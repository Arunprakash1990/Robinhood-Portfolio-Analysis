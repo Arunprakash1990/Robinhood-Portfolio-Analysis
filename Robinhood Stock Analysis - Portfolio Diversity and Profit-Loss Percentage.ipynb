{
 "cells": [
  {
   "cell_type": "markdown",
   "metadata": {
    "pycharm": {
     "name": "#%% md\n"
    }
   },
   "source": [
    "# Robinhood API Usage Examples"
   ]
  },
  {
   "cell_type": "code",
   "execution_count": 3,
   "metadata": {},
   "outputs": [],
   "source": [
    "import getpass\n",
    "import requests\n",
    "import numpy as np\n",
    "import pandas as pd\n",
    "from pyrh import Robinhood\n",
    "import qgrid\n",
    "import xlsxwriter\n",
    "from dateutil import parser\n",
    "\n",
    "#Make sure you install pyrh and qgrid either using conda install or pip install\n",
    "#Install All the sufficient libraries in your local machine"
   ]
  },
  {
   "cell_type": "code",
   "execution_count": 4,
   "metadata": {},
   "outputs": [
    {
     "name": "stdout",
     "output_type": "stream",
     "text": [
      "Username :: arun.ap.90@gmail.com\n",
      "Password :: ········\n",
      "Check your mobile for 2 factor Authentication Code:\n",
      "No 2FA Given\n",
      "sms code:\n",
      "087029\n"
     ]
    },
    {
     "data": {
      "text/plain": [
       "True"
      ]
     },
     "execution_count": 4,
     "metadata": {},
     "output_type": "execute_result"
    }
   ],
   "source": [
    "username = input('Username :: ')\n",
    "password = getpass.getpass('Password :: ')\n",
    "print(\"Check your mobile for 2 factor Authentication Code:\")\n",
    "rh = Robinhood()\n",
    "rh.login(username, password,challenge_type=\"sms\")"
   ]
  },
  {
   "cell_type": "markdown",
   "metadata": {},
   "source": [
    "# CODE TO PREPARE ROBINHOOD STOCK ACCOUNT DATA MERGE WITH SECTOR AND INDUSTRY DATA"
   ]
  },
  {
   "cell_type": "code",
   "execution_count": 9,
   "metadata": {
    "scrolled": false
   },
   "outputs": [],
   "source": [
    "def get_order_History(ordertype):\n",
    "    if ordertype == 'orders':\n",
    "        history = rh.order_history()\n",
    "    elif ordertype == 'dividends':\n",
    "        history = rh.dividends()\n",
    "    historyList = history['results']\n",
    "    while True:\n",
    "        if(history['next'] is None):\n",
    "            break\n",
    "        history = rh.get_url(history['next'])\n",
    "        historyList.extend(history['results'])\n",
    "    return historyList\n",
    "\n",
    "#print('Total Orders in your RobinHood Account:',len(get_order_History()))\n",
    "\n",
    "def get_dividends(dividendHistoryList):\n",
    "    dividendDict ={}\n",
    "    dividendList =[]\n",
    "    for dividend in dividendHistoryList:\n",
    "        instrumentResponse = requests.get(dividend[\"instrument\"])\n",
    "        instrumentJSON = instrumentResponse.json()\n",
    "        # print(instrumentJSON)\n",
    "\n",
    "        dividendDict['name'] = instrumentJSON[\"simple_name\"]\n",
    "        dividendDict['ticker'] = instrumentJSON[\"symbol\"]\n",
    "        dividendDict['amount'] = dividend[\"amount\"]\n",
    "        dividendDict['payable_date'] = dividend[\"payable_date\"]\n",
    "        dividendList.append(dividendDict.copy())\n",
    "    #print(dividendList)\n",
    "    return sorted(dividendList,key=lambda k:k['payable_date'])\n",
    "\n",
    "\n",
    "def get_all_orders_sortedByDate(orderHistoryList):\n",
    "    stockDict = {}\n",
    "    allStockList = []\n",
    "    for order in orderHistoryList:\n",
    "        if(order['state'] != \"cancelled\" and order['state'] != \"confirmed\" and order['state'] != \"rejected\"):\n",
    "            instrumentResponse = requests.get(order[\"instrument\"])\n",
    "            instrumentJSON = instrumentResponse.json()\n",
    "            # print(instrumentJSON)\n",
    "            stockDict['name'] = instrumentJSON[\"simple_name\"]\n",
    "            stockDict['ticker'] = instrumentJSON[\"symbol\"]\n",
    "            stockDict['date'] = parser.parse(order[\"executions\"][0][\"settlement_date\"])\n",
    "            stockDict['tranType'] = order[\"side\"]\n",
    "            stockDict['totalBuyingPrice'] = order[\"executed_notional\"][\"amount\"]\n",
    "            \n",
    "            splitStock = 1\n",
    "            if stockDict['ticker'] == 'AAPL' and stockDict['date'] < parser.parse('2020-09-01 00:00:00'):\n",
    "                splitStock = 4\n",
    "            elif stockDict['ticker'] == 'TSLA' and stockDict['date'] < parser.parse('2020-08-30 00:00:00') : \n",
    "                splitStock = 5\n",
    "            \n",
    "            stockDict['BuyingPricePerShare'] = float(order[\"average_price\"])/splitStock\n",
    "            stockDict['quantity'] = float(order[\"cumulative_quantity\"])*splitStock\n",
    "            \n",
    "            allStockList.append(stockDict.copy())\n",
    "    return sorted(allStockList,key=lambda k:k['date'])\n",
    "\n",
    "def get_all_orders_FilterByDate(orderHistoryList,filterDate):\n",
    "    stockDict = {}\n",
    "    allStockList = []\n",
    "    for order in orderHistoryList:\n",
    "        if(order['state'] != \"cancelled\" and order['state'] != \"confirmed\" and order['state'] != \"rejected\") and parser.parse(order[\"executions\"][0][\"settlement_date\"]) >= parser.parse(filterDate):\n",
    "            instrumentResponse = requests.get(order[\"instrument\"])\n",
    "            instrumentJSON = instrumentResponse.json()\n",
    "            # print(instrumentJSON)\n",
    "            stockDict['name'] = instrumentJSON[\"simple_name\"]\n",
    "            stockDict['ticker'] = instrumentJSON[\"symbol\"]\n",
    "            stockDict['date'] = parser.parse(order[\"executions\"][0][\"settlement_date\"])\n",
    "            stockDict['tranType'] = order[\"side\"]\n",
    "            stockDict['totalBuyingPrice'] = order[\"executed_notional\"][\"amount\"]\n",
    "            \n",
    "            splitStock = 1\n",
    "            if stockDict['ticker'] == 'AAPL' and stockDict['date'] < parser.parse('2020-09-01 00:00:00'):\n",
    "                splitStock = 4\n",
    "            elif stockDict['ticker'] == 'TSLA' and stockDict['date'] < parser.parse('2020-08-30 00:00:00') : \n",
    "                splitStock = 5\n",
    "            \n",
    "            stockDict['BuyingPricePerShare'] = float(order[\"average_price\"])/splitStock\n",
    "            stockDict['quantity'] = float(order[\"cumulative_quantity\"])*splitStock\n",
    "            \n",
    "            allStockList.append(stockDict.copy())\n",
    "    return sorted(allStockList,key=lambda k:k['date'])\n",
    "\n",
    "def split_BuyAndSellList(sortedOrders):\n",
    "    buyList = []\n",
    "    sellList = []\n",
    "    tickerList =[]\n",
    "    stockMap ={}\n",
    "    for row in sortedOrders:\n",
    "        if row['tranType'] == 'buy':\n",
    "            if row['ticker'] not in stockMap:\n",
    "                stockMap[row['ticker']] = row\n",
    "                tickerList.append(row['ticker'])\n",
    "            else:\n",
    "                existingRow = stockMap[row['ticker']]\n",
    "                newRow ={}\n",
    "                newRow['name'] = str(row['name'])\n",
    "                newRow['ticker'] = str(row['ticker'])\n",
    "                newRow['tranType'] = str(row['tranType'])\n",
    "                newRow['date'] = str(row['date'])\n",
    "                newRow['quantity'] = float(row['quantity']) + float(existingRow['quantity'])\n",
    "                newRow['totalBuyingPrice'] = float(row['totalBuyingPrice']) + float(existingRow['totalBuyingPrice'])\n",
    "                newRow['BuyingPricePerShare'] = float(newRow['totalBuyingPrice'])/float(newRow['quantity'])\n",
    "                stockMap[row['ticker']] = newRow\n",
    "        else:\n",
    "            if(row['ticker'] in stockMap):\n",
    "                alreadyBoughtRow = stockMap.pop(row['ticker'])\n",
    "                if(alreadyBoughtRow['ticker'] == row['ticker']):   \n",
    "                    if((float(alreadyBoughtRow['quantity']) - float(row['quantity'])) != 0.0):\n",
    "                        alreadyBoughtRow['quantity'] = float(alreadyBoughtRow['quantity']) - float(row['quantity'])\n",
    "                        alreadyBoughtRow['totalBuyingPrice'] = float(alreadyBoughtRow['BuyingPricePerShare'])*float(alreadyBoughtRow['quantity'])\n",
    "                        stockMap[row['ticker']] = alreadyBoughtRow\n",
    "                    soldRow = alreadyBoughtRow.copy()\n",
    "                    soldRow['SoldDate'] = str(row['date'])\n",
    "                    soldRow['tranType'] = 'Sold'\n",
    "                    soldRow['sellingQuantity'] = float(row['quantity'])\n",
    "                    soldRow['totalSellingPrice'] = float(row['totalBuyingPrice'])\n",
    "                    soldRow['SellingPricePerShare'] = float(row['BuyingPricePerShare'])\n",
    "                    sellList.append(soldRow)\n",
    "    buyList = stockMap.values()\n",
    "    return buyList,sellList,tickerList\n",
    "\n",
    "def get_curr_marketPrice(tickerList):\n",
    "    currPriceList = rh.quotes_data(set(tickerList))\n",
    "    #currPriceList\n",
    "    currDict = {}\n",
    "    currStockList = []\n",
    "    for curr in currPriceList:\n",
    "        if curr is not None:\n",
    "            #if curr['symbol']:\n",
    "            #    currDict['ticker'] = curr['symbol']\n",
    "            #    currDict['currPrice'] = curr['symbol' == 'CZR']['last_trade_price']\n",
    "            #else:\n",
    "            currDict['ticker'] = curr['symbol']\n",
    "            currDict['currPrice'] = curr['last_trade_price']\n",
    "            currStockList.append(currDict.copy())\n",
    "    return currStockList\n",
    "\n",
    "def fillnaByTypes(df):\n",
    "    for col in df:\n",
    "        #get dtype for column\n",
    "        dt = df[col].dtype \n",
    "        #check if it is a number\n",
    "        if dt == int or dt == float:\n",
    "            df[col].fillna(0)\n",
    "        else:\n",
    "            df[col].fillna(\"Unknown\")\n",
    "    return df;\n",
    "\n",
    "def prepare_data_frames(buyList,currPriceList):\n",
    "    df1 = pd.DataFrame(buyList)\n",
    "    convert_type = {'name' : str,\n",
    "                    'ticker' : str,\n",
    "                    'BuyingPricePerShare' : float,\n",
    "                    'totalBuyingPrice' : float,\n",
    "                    'quantity' : float,\n",
    "                    'date' : str,\n",
    "                    'tranType' : str\n",
    "                   }\n",
    "    df1 = df1.astype(convert_type)\n",
    "    df1 = df1.rename(columns={  'name' : 'Name',\n",
    "                                'ticker' : 'Ticker',\n",
    "                                'BuyingPricePerShare' : 'Purchase Price (Per Share)',\n",
    "                                'totalBuyingPrice' : 'Total Purchase Price',\n",
    "                                'quantity' : 'Purchase Quantity',\n",
    "                                'date' : 'Purchase Date',\n",
    "                                'tranType' : 'Transaction Type'\n",
    "                   })\n",
    "    #print(df1.dtypes)\n",
    "\n",
    "    df2 = pd.DataFrame(currPriceList)\n",
    "    convert_type = {'ticker' : str,\n",
    "                    'currPrice' : float\n",
    "                   }\n",
    "    df2 = df2.astype(convert_type)\n",
    "    df2 = df2.rename(columns={  'ticker' : 'Ticker',\n",
    "                                'currPrice' : 'Current Market Price (Per Share)'\n",
    "                   })\n",
    "    #print(df2.dtypes)\n",
    "    \n",
    "    df3 = pd.read_csv('companylist.csv',usecols=['Symbol','Sector','industry'])\n",
    "    df3.columns = ['Ticker','Sector','Industry']\n",
    "    convert_type = {'Ticker' : str,\n",
    "                    'Sector' : str,\n",
    "                    'Industry' : str\n",
    "                   }\n",
    "    \n",
    "    df3 = df3.astype(convert_type)\n",
    "    df3 = df3.drop_duplicates()\n",
    "    #print(df3.dtypes)\n",
    "    \n",
    "    portfolio = df1.merge(df2,on='Ticker',how='left').merge(df3,on='Ticker',how='left')\n",
    "    portfolio = portfolio.sort_values('Purchase Date',ascending=False)\n",
    "    portfolio.reset_index(inplace=True,drop=True)\n",
    "    portfolio = fillnaByTypes(portfolio)\n",
    "    return portfolio\n",
    "\n",
    "def re_order_columns(portfolio):\n",
    "    return portfolio[['Name',\n",
    "                     'Ticker',\n",
    "                     'Purchase Date',\n",
    "                     'Transaction Type',\n",
    "                     'Purchase Quantity',\n",
    "                     'Purchase Price (Per Share)',\n",
    "                     'Current Market Price (Per Share)',\n",
    "                     'Total Purchase Price',\n",
    "                     'Total Market Price',\n",
    "                     'Sector',\n",
    "                     'Industry',\n",
    "                     'Profit/Loss',\n",
    "                     'Profit/Loss Percentage',\n",
    "                     'Portfolio Diversity'\n",
    "                     ]].sort_values('Profit/Loss Percentage')\n",
    "'''\n",
    "def create_calculated_fields(portfolio):\n",
    "    portfolio['Total Market Price'] = round(portfolio['Current Market Price (Per Share)'] * portfolio['Purchase Quantity'],2)\n",
    "    portfolio[\"Profit/Loss\"] = round(portfolio[\"Total Market Price\"] - portfolio[\"Total Purchase Price\"],2)\n",
    "    portfolio[\"Profit/Loss Percentage\"] = round((portfolio[\"Profit/Loss\"]/portfolio[\"Total Purchase Price\"])*100,2)\n",
    "    portfolio[\"Portfolio Diversity\"] = round((portfolio['Total Market Price']/portfolio['Total Market Price'].sum())*100,2)\n",
    "\n",
    "    #portfolio[\"Profit/Loss Percentage\"] = portfolio[\"Profit/Loss Percentage\"].astype(str)\n",
    "    #portfolio[\"Profit/Loss Percentage\"] = portfolio[\"Profit/Loss Percentage\"]  + \"%\"\n",
    "    #portfolio[\"Portfolio Diversity\"] = portfolio[\"Portfolio Diversity\"].astype(str)\n",
    "    #portfolio[\"Portfolio Diversity\"] = portfolio[\"Portfolio Diversity\"]  + \"%\"\n",
    "\n",
    "    portfolio[\"Purchase Price (Per Share)\"] = portfolio[\"Purchase Price (Per Share)\"].round(2)\n",
    "    portfolio[\"Total Market Price\"] = portfolio[\"Total Market Price\"].round(2)\n",
    "    return re_order_columns(portfolio)\n",
    "'''\n",
    "\n",
    "\n",
    "def create_calculated_fields(portfolio):\n",
    "    portfolio['Total Market Price'] = np.round(portfolio['Current Market Price (Per Share)'] * portfolio['Purchase Quantity'],2)\n",
    "    portfolio[\"Profit/Loss\"] = np.round(portfolio[\"Total Market Price\"] - portfolio[\"Total Purchase Price\"],2)\n",
    "    portfolio[\"Profit/Loss Percentage\"] = np.round((portfolio[\"Profit/Loss\"]/portfolio[\"Total Purchase Price\"])*100,2)\n",
    "    portfolio[\"Portfolio Diversity\"] = np.round((portfolio['Total Market Price']/portfolio['Total Market Price'].sum())*100,2)\n",
    "\n",
    "    #portfolio[\"Profit/Loss Percentage\"] = portfolio[\"Profit/Loss Percentage\"].astype(str)\n",
    "    #portfolio[\"Profit/Loss Percentage\"] = portfolio[\"Profit/Loss Percentage\"]  + \"%\"\n",
    "    #portfolio[\"Portfolio Diversity\"] = portfolio[\"Portfolio Diversity\"].astype(str)\n",
    "    #portfolio[\"Portfolio Diversity\"] = portfolio[\"Portfolio Diversity\"]  + \"%\"\n",
    "\n",
    "    portfolio[\"Purchase Price (Per Share)\"] = portfolio[\"Purchase Price (Per Share)\"].round(2)\n",
    "    portfolio[\"Total Market Price\"] = portfolio[\"Total Market Price\"].round(2)\n",
    "    return re_order_columns(portfolio)\n",
    "\n",
    "def get_Sector_and_Industry_Analysis(finalSummary):\n",
    "    withIndustryColumns = [\n",
    "                     'Sector',\n",
    "                     'Industry',\n",
    "                     'Total Purchase Price',\n",
    "                     'Total Market Price',\n",
    "                     'Profit/Loss'\n",
    "                     ]\n",
    "    #portfolioAnalysisWithIndustry = finalSummary[withIndustryColumns].groupby(['Industry'],as_index=False)\n",
    "    #portfolioAnalysisWithSector = finalSummary[withIndustryColumns].groupby(['Sector'],as_index=False)\n",
    "    industryAnalysis = finalSummary[withIndustryColumns].groupby(['Industry'],as_index=False).agg({'Total Purchase Price': np.sum,'Total Market Price': np.sum,'Profit/Loss': np.sum})  \n",
    "    sectorAnalysis = finalSummary[withIndustryColumns].groupby(['Sector'],as_index=False).agg({'Total Purchase Price': np.sum,'Total Market Price': np.sum,'Profit/Loss': np.sum})  \n",
    "    sectorAnalysis[\"Profit/Loss Percentage\"] = round((sectorAnalysis[\"Profit/Loss\"]/sectorAnalysis[\"Total Purchase Price\"])*100,2)\n",
    "    sectorAnalysis[\"Portfolio Diversity\"] = round((sectorAnalysis['Total Market Price']/sectorAnalysis['Total Market Price'].sum())*100,2)\n",
    "    industryAnalysis[\"Profit/Loss Percentage\"] = round((industryAnalysis[\"Profit/Loss\"]/industryAnalysis[\"Total Purchase Price\"])*100,2)\n",
    "    industryAnalysis[\"Portfolio Diversity\"] = round((industryAnalysis['Total Market Price']/industryAnalysis['Total Market Price'].sum())*100,2)\n",
    "    dropColumns =['Total Purchase Price','Total Market Price','Profit/Loss']\n",
    "    sectorSummary = sectorAnalysis.drop(dropColumns,axis=1)\n",
    "    industrySummary = industryAnalysis.drop(dropColumns,axis=1)\n",
    "    return sectorSummary.sort_values('Profit/Loss Percentage'),industrySummary.sort_values('Profit/Loss Percentage')\n",
    "    #,portfolioAnalysisWithIndustry.sort_values('Profit/Loss Percentage'),portfolioAnalysisWithSector.sort_values('Profit/Loss Percentage')\n",
    "\n",
    "def process_data_from_robinHood(filterdate):\n",
    "    orderHistoryList              =   get_order_History('orders')\n",
    "    dividendHistoryList           =   get_order_History('dividends')\n",
    "    dividendList                  =   get_dividends(dividendHistoryList)\n",
    "    if filterdate is  None :\n",
    "        sortedOrders                  =   get_all_orders_sortedByDate(orderHistoryList)\n",
    "    else:\n",
    "        sortedOrders                  =   get_all_orders_FilterByDate(orderHistoryList,filterdate)\n",
    "    buyList,sellList,tickerList   =   split_BuyAndSellList(sortedOrders)\n",
    "    currPriceList                 =   get_curr_marketPrice(tickerList)\n",
    "    portfolio                     =   prepare_data_frames(buyList,currPriceList)\n",
    "    finalSummary                  =   create_calculated_fields(portfolio)\n",
    "    sectorSummary,industrySummary =   get_Sector_and_Industry_Analysis(finalSummary)\n",
    "    return finalSummary,sectorSummary,industrySummary,sellList,dividendList\n",
    "\n",
    "def write_to_Excel(finalSummary,sectorSummary,industrySummary):\n",
    "    writer = pd.ExcelWriter('stock_Analysis_RobinHood.xlsx', engine='xlsxwriter')\n",
    "    finalSummary.to_excel(writer, sheet_name='Final Summary',index=0)\n",
    "    sectorSummary\n",
    "    sectorSummary.to_excel(writer, sheet_name='Sector Summary',index=0)\n",
    "    industrySummary.to_excel(writer, sheet_name='Industry Summary',index=0)\n",
    "    workbook = writer.book\n",
    "    \n",
    "    formatPercentage = workbook.add_format({'num_format': '0.00\\%'})\n",
    "    \n",
    "    sectorXlsx = writer.sheets['Sector Summary']\n",
    "    sectorXlsx.set_column('B:C', None, formatPercentage)\n",
    "    column_chart1 = workbook.add_chart({'type': 'column'})\n",
    "    column_chart1.add_series({\n",
    "    'name':     ['Sector Summary', 0, 1, 0, 1],    \n",
    "    'values':     ['Sector Summary', 1, 1, sectorSummary.shape[0]-1, 1],\n",
    "    'categories':     ['Sector Summary', 1, 0, sectorSummary.shape[0]-1, 0],\n",
    "    })\n",
    "    line_chart2 = workbook.add_chart({'type': 'line'})\n",
    "    line_chart2.add_series({\n",
    "    'name':     ['Sector Summary', 0, 2, 0, 2],    \n",
    "    'values':     ['Sector Summary', 1, 2, sectorSummary.shape[0]-1, 2],\n",
    "    'categories':     ['Sector Summary', 1, 0, sectorSummary.shape[0]-1, 0],\n",
    "    })\n",
    "    column_chart1.combine(line_chart2)\n",
    "    column_chart1.set_title({ 'name': 'Sector Analysis of Portfolio Diversity and P/L %'})\n",
    "    column_chart1.set_x_axis({'name': 'Sector','label_position': 'low'})\n",
    "    column_chart1.set_y_axis({'name': 'Percentage %'})\n",
    "    column_chart1.set_size({'width': 720, 'height': 576})\n",
    "\n",
    "    sectorXlsx.insert_chart('F2', column_chart1)\n",
    "    \n",
    "    \n",
    "    industryXlsx = writer.sheets['Industry Summary']\n",
    "    industryXlsx.set_column('B:C', None, formatPercentage)\n",
    "    column_chart1 = workbook.add_chart({'type': 'bar'})\n",
    "    column_chart1.add_series({\n",
    "    'name':     ['Industry Summary', 0, 1, 0, 1],    \n",
    "    'values':     ['Industry Summary', 1, 1, industrySummary.shape[0]-1, 1],\n",
    "    'categories':     ['Industry Summary', 1, 0, industrySummary.shape[0]-1, 0],\n",
    "    })\n",
    "    #line_chart2 = workbook.add_chart({'type': 'line'})\n",
    "    #line_chart2.add_series({\n",
    "    #'name':     ['Industry Summary', 0, 2, 0, 2],    \n",
    "    #'values':     ['Industry Summary', 1, 2, industrySummary.shape[0]-1, 2],\n",
    "    #'categories':     ['Industry Summary', 1, 0, industrySummary.shape[0]-1, 0],\n",
    "    #})\n",
    "    #column_chart1.combine(line_chart2)\n",
    "    column_chart1.set_title({ 'name': 'Industry Analysis of Portfolio Diversity and P/L %'})\n",
    "    column_chart1.set_x_axis({'name': 'Percentage %','label_position': 'low'})\n",
    "    column_chart1.set_y_axis({'name': 'Industry','label_position': 'low'})\n",
    "    column_chart1.set_size({'width': 1024, 'height': 768})\n",
    "\n",
    "    industryXlsx.insert_chart('F2', column_chart1)\n",
    "    \n",
    "    writer.save()"
   ]
  },
  {
   "cell_type": "code",
   "execution_count": 30,
   "metadata": {},
   "outputs": [],
   "source": [
    "finalSummary,sectorSummary,industrySummary,sellList,dividendList = process_data_from_robinHood(None)\n",
    "write_to_Excel(finalSummary,sectorSummary,industrySummary)\n",
    "\n",
    "#You can Also filter the final summary data by passing the starting date to current date. Something like below example\n",
    "#finalSummary,sectorSummary,industrySummary,sellList,dividendList = process_data_from_robinHood(\"2020-09-01 00:00:00\")\n",
    "#write_to_Excel(finalSummary,sectorSummary,industrySummary)"
   ]
  },
  {
   "cell_type": "code",
   "execution_count": 31,
   "metadata": {
    "scrolled": true
   },
   "outputs": [],
   "source": [
    "withoutIndustryColumns = ['Name',\n",
    "                     'Ticker',\n",
    "                     'Sector',\n",
    "                     'Industry',\n",
    "                     'Purchase Quantity',\n",
    "                     'Purchase Price (Per Share)',\n",
    "                     'Current Market Price (Per Share)',\n",
    "                     'Total Purchase Price',\n",
    "                     'Total Market Price',\n",
    "                     'Profit/Loss',\n",
    "                     'Profit/Loss Percentage',\n",
    "                     'Portfolio Diversity'\n",
    "                     ]\n",
    "withIndustryColumns = [\n",
    "                     'Sector',\n",
    "                     'Industry',\n",
    "                     'Total Purchase Price',\n",
    "                     'Total Market Price',\n",
    "                     'Profit/Loss'\n",
    "                     ]\n",
    "MajorColumns = [     'Name',\n",
    "                     'Ticker',\n",
    "                     'Sector',\n",
    "                     'Industry',\n",
    "                     'Profit/Loss Percentage',\n",
    "                     'Portfolio Diversity'\n",
    "                     ]"
   ]
  },
  {
   "cell_type": "code",
   "execution_count": 45,
   "metadata": {},
   "outputs": [
    {
     "name": "stdout",
     "output_type": "stream",
     "text": [
      "91.4 % of your portfolio have 26.88% P/L percentage on Profit Orders :\n",
      "8.56 % of your portfolio have -10.81% P/L percentage on Profit Orders :\n",
      "Over All Profit/Loss in your Account: 23.642984\n"
     ]
    }
   ],
   "source": [
    "profitOrders = finalSummary[withoutIndustryColumns][finalSummary['Profit/Loss Percentage'] > 0]\n",
    "lossOrders   = finalSummary[withoutIndustryColumns][finalSummary['Profit/Loss Percentage'] <= 0]\n",
    "\n",
    "profitPortfolio = round(profitOrders[\"Portfolio Diversity\"].sum(),2)\n",
    "lossPortfolio = round(lossOrders[\"Portfolio Diversity\"].sum(),2)\n",
    "\n",
    "marketPriceProfitOrders = profitOrders['Total Market Price'].sum()\n",
    "purchasePriceProfitOrders = profitOrders['Total Purchase Price'].sum()\n",
    "marketPriceLossOrders = lossOrders['Total Market Price'].sum()\n",
    "purchasePriceLossOrders = lossOrders['Total Purchase Price'].sum()\n",
    "\n",
    "plPositive = round((marketPriceProfitOrders - purchasePriceProfitOrders)/purchasePriceProfitOrders * 100,2)\n",
    "plNegative = round((marketPriceLossOrders - purchasePriceLossOrders)/purchasePriceLossOrders * 100,2)\n",
    "print(profitPortfolio,\"% of your portfolio have {}% P/L percentage on Profit Orders :\".format(plPositive))\n",
    "print(lossPortfolio,\"% of your portfolio have {}% P/L percentage on Profit Orders :\".format(plNegative))\n",
    "print(\"Over All Profit/Loss % in your Account:\",((profitPortfolio*plPositive) + (lossPortfolio*plNegative))/100)"
   ]
  },
  {
   "cell_type": "code",
   "execution_count": 46,
   "metadata": {
    "scrolled": false
   },
   "outputs": [
    {
     "data": {
      "application/vnd.jupyter.widget-view+json": {
       "model_id": "03243e684c094cb78ef2e6ebfbdc15a1",
       "version_major": 2,
       "version_minor": 0
      },
      "text/plain": [
       "QgridWidget(grid_options={'fullWidthRows': True, 'syncColumnCellResize': True, 'forceFitColumns': True, 'defau…"
      ]
     },
     "metadata": {},
     "output_type": "display_data"
    }
   ],
   "source": [
    "portfolioAnalysis = qgrid.show_grid(finalSummary[MajorColumns])\n",
    "portfolioAnalysis\n",
    "#Full Portfolio Analysis. You can sort the below table by clicking on any of the columns"
   ]
  },
  {
   "cell_type": "code",
   "execution_count": 48,
   "metadata": {},
   "outputs": [
    {
     "data": {
      "application/vnd.jupyter.widget-view+json": {
       "model_id": "0cf58a06690b46108ffc6698cd532d5c",
       "version_major": 2,
       "version_minor": 0
      },
      "text/plain": [
       "QgridWidget(grid_options={'fullWidthRows': True, 'syncColumnCellResize': True, 'forceFitColumns': True, 'defau…"
      ]
     },
     "metadata": {},
     "output_type": "display_data"
    }
   ],
   "source": [
    "PrettyTableDisplay = qgrid.show_grid(finalSummary[withoutIndustryColumns])\n",
    "PrettyTableDisplay\n",
    "#Extensive Table of your portfolio. You can sort the below table by clicking on any of the columns"
   ]
  },
  {
   "cell_type": "code",
   "execution_count": 52,
   "metadata": {},
   "outputs": [],
   "source": [
    "#print(\"Total Amount you invested in Stocks\",finalSummary['Total Purchase Price'].sum())\n",
    "#UnComment the above code block to see the total amount you invested in Robinhood without considering the profit/Loss you made in it"
   ]
  },
  {
   "cell_type": "code",
   "execution_count": null,
   "metadata": {},
   "outputs": [],
   "source": []
  },
  {
   "cell_type": "code",
   "execution_count": 51,
   "metadata": {},
   "outputs": [
    {
     "data": {
      "application/vnd.jupyter.widget-view+json": {
       "model_id": "adbdadf8b9844637bd010fa8d6022eb3",
       "version_major": 2,
       "version_minor": 0
      },
      "text/plain": [
       "QgridWidget(grid_options={'fullWidthRows': True, 'syncColumnCellResize': True, 'forceFitColumns': True, 'defau…"
      ]
     },
     "metadata": {},
     "output_type": "display_data"
    }
   ],
   "source": [
    "sectorSummaryDisplay = qgrid.show_grid(sectorSummary)\n",
    "sectorSummaryDisplay"
   ]
  },
  {
   "cell_type": "code",
   "execution_count": 38,
   "metadata": {},
   "outputs": [
    {
     "data": {
      "application/vnd.jupyter.widget-view+json": {
       "model_id": "c9f1589f0ed24ddb86bbc42932bacdb5",
       "version_major": 2,
       "version_minor": 0
      },
      "text/plain": [
       "QgridWidget(grid_options={'fullWidthRows': True, 'syncColumnCellResize': True, 'forceFitColumns': True, 'defau…"
      ]
     },
     "metadata": {},
     "output_type": "display_data"
    }
   ],
   "source": [
    "industrySummaryDisplay = qgrid.show_grid(industrySummary)\n",
    "industrySummaryDisplay"
   ]
  },
  {
   "cell_type": "code",
   "execution_count": 39,
   "metadata": {},
   "outputs": [
    {
     "data": {
      "application/vnd.plotly.v1+json": {
       "config": {
        "plotlyServerURL": "https://plot.ly"
       },
       "data": [
        {
         "name": "Portfolio Diversity %",
         "type": "scatter",
         "x": [
          "Major Pharmaceuticals",
          "Other Pharmaceuticals",
          "Other Specialty Stores",
          "Department/Specialty Retail Stores",
          "Computer Communications Equipment",
          "Integrated oil Companies",
          "Computer Software: Prepackaged Software",
          "Real Estate Investment Trusts",
          "Consumer Electronics/Video Chains",
          "Catalog/Specialty Distribution",
          "ETF",
          "Oil & Gas Production",
          "Medical/Nursing Services",
          "Computer Software: Programming, Data Processing",
          "Aerospace",
          "Biotechnology: Biological Products (No Diagnostic Substances)",
          "Air Freight/Delivery Services",
          "Major Chemicals",
          "Marine Transportation",
          "Business Services",
          "Computer Manufacturing",
          "Semiconductors",
          "Beverages (Production/Distribution)",
          "Other Consumer Services",
          "Shoe Manufacturing",
          "Oilfield Services/Equipment",
          "Hotels/Resorts",
          "Television Services",
          "Restaurants",
          "Consumer Electronics/Appliances",
          "Services-Misc. Amusement & Recreation",
          "Commercial Banks",
          "Auto Manufacturing"
         ],
         "y": [
          0.83,
          0.16,
          0.16,
          2.44,
          0.14,
          1.74,
          13.86,
          2.47,
          2.48,
          4.8,
          7.07,
          0.18,
          0.47,
          8.5,
          1.28,
          1.63,
          2.65,
          0.19,
          1.89,
          13.71,
          5.15,
          5.33,
          2.08,
          1.33,
          0.44,
          2.18,
          3.92,
          1.32,
          1.53,
          3.85,
          2.69,
          0.93,
          2.6
         ]
        },
        {
         "name": "P/L %",
         "type": "bar",
         "x": [
          "Major Pharmaceuticals",
          "Other Pharmaceuticals",
          "Other Specialty Stores",
          "Department/Specialty Retail Stores",
          "Computer Communications Equipment",
          "Integrated oil Companies",
          "Computer Software: Prepackaged Software",
          "Real Estate Investment Trusts",
          "Consumer Electronics/Video Chains",
          "Catalog/Specialty Distribution",
          "ETF",
          "Oil & Gas Production",
          "Medical/Nursing Services",
          "Computer Software: Programming, Data Processing",
          "Aerospace",
          "Biotechnology: Biological Products (No Diagnostic Substances)",
          "Air Freight/Delivery Services",
          "Major Chemicals",
          "Marine Transportation",
          "Business Services",
          "Computer Manufacturing",
          "Semiconductors",
          "Beverages (Production/Distribution)",
          "Other Consumer Services",
          "Shoe Manufacturing",
          "Oilfield Services/Equipment",
          "Hotels/Resorts",
          "Television Services",
          "Restaurants",
          "Consumer Electronics/Appliances",
          "Services-Misc. Amusement & Recreation",
          "Commercial Banks",
          "Auto Manufacturing"
         ],
         "y": [
          -1.36,
          2.48,
          5.04,
          6.16,
          6.7,
          7.36,
          7.59,
          8.5,
          9.17,
          9.83,
          10.02,
          13.48,
          15.38,
          16.17,
          18.08,
          18.56,
          19,
          20.78,
          23.48,
          27.58,
          28.29,
          35.58,
          36.28,
          36.96,
          39.16,
          39.78,
          40.14,
          47.18,
          48.18,
          52.57,
          53.82,
          64.3,
          82.65
         ]
        }
       ],
       "layout": {
        "template": {
         "data": {
          "bar": [
           {
            "error_x": {
             "color": "#2a3f5f"
            },
            "error_y": {
             "color": "#2a3f5f"
            },
            "marker": {
             "line": {
              "color": "#E5ECF6",
              "width": 0.5
             }
            },
            "type": "bar"
           }
          ],
          "barpolar": [
           {
            "marker": {
             "line": {
              "color": "#E5ECF6",
              "width": 0.5
             }
            },
            "type": "barpolar"
           }
          ],
          "carpet": [
           {
            "aaxis": {
             "endlinecolor": "#2a3f5f",
             "gridcolor": "white",
             "linecolor": "white",
             "minorgridcolor": "white",
             "startlinecolor": "#2a3f5f"
            },
            "baxis": {
             "endlinecolor": "#2a3f5f",
             "gridcolor": "white",
             "linecolor": "white",
             "minorgridcolor": "white",
             "startlinecolor": "#2a3f5f"
            },
            "type": "carpet"
           }
          ],
          "choropleth": [
           {
            "colorbar": {
             "outlinewidth": 0,
             "ticks": ""
            },
            "type": "choropleth"
           }
          ],
          "contour": [
           {
            "colorbar": {
             "outlinewidth": 0,
             "ticks": ""
            },
            "colorscale": [
             [
              0,
              "#0d0887"
             ],
             [
              0.1111111111111111,
              "#46039f"
             ],
             [
              0.2222222222222222,
              "#7201a8"
             ],
             [
              0.3333333333333333,
              "#9c179e"
             ],
             [
              0.4444444444444444,
              "#bd3786"
             ],
             [
              0.5555555555555556,
              "#d8576b"
             ],
             [
              0.6666666666666666,
              "#ed7953"
             ],
             [
              0.7777777777777778,
              "#fb9f3a"
             ],
             [
              0.8888888888888888,
              "#fdca26"
             ],
             [
              1,
              "#f0f921"
             ]
            ],
            "type": "contour"
           }
          ],
          "contourcarpet": [
           {
            "colorbar": {
             "outlinewidth": 0,
             "ticks": ""
            },
            "type": "contourcarpet"
           }
          ],
          "heatmap": [
           {
            "colorbar": {
             "outlinewidth": 0,
             "ticks": ""
            },
            "colorscale": [
             [
              0,
              "#0d0887"
             ],
             [
              0.1111111111111111,
              "#46039f"
             ],
             [
              0.2222222222222222,
              "#7201a8"
             ],
             [
              0.3333333333333333,
              "#9c179e"
             ],
             [
              0.4444444444444444,
              "#bd3786"
             ],
             [
              0.5555555555555556,
              "#d8576b"
             ],
             [
              0.6666666666666666,
              "#ed7953"
             ],
             [
              0.7777777777777778,
              "#fb9f3a"
             ],
             [
              0.8888888888888888,
              "#fdca26"
             ],
             [
              1,
              "#f0f921"
             ]
            ],
            "type": "heatmap"
           }
          ],
          "heatmapgl": [
           {
            "colorbar": {
             "outlinewidth": 0,
             "ticks": ""
            },
            "colorscale": [
             [
              0,
              "#0d0887"
             ],
             [
              0.1111111111111111,
              "#46039f"
             ],
             [
              0.2222222222222222,
              "#7201a8"
             ],
             [
              0.3333333333333333,
              "#9c179e"
             ],
             [
              0.4444444444444444,
              "#bd3786"
             ],
             [
              0.5555555555555556,
              "#d8576b"
             ],
             [
              0.6666666666666666,
              "#ed7953"
             ],
             [
              0.7777777777777778,
              "#fb9f3a"
             ],
             [
              0.8888888888888888,
              "#fdca26"
             ],
             [
              1,
              "#f0f921"
             ]
            ],
            "type": "heatmapgl"
           }
          ],
          "histogram": [
           {
            "marker": {
             "colorbar": {
              "outlinewidth": 0,
              "ticks": ""
             }
            },
            "type": "histogram"
           }
          ],
          "histogram2d": [
           {
            "colorbar": {
             "outlinewidth": 0,
             "ticks": ""
            },
            "colorscale": [
             [
              0,
              "#0d0887"
             ],
             [
              0.1111111111111111,
              "#46039f"
             ],
             [
              0.2222222222222222,
              "#7201a8"
             ],
             [
              0.3333333333333333,
              "#9c179e"
             ],
             [
              0.4444444444444444,
              "#bd3786"
             ],
             [
              0.5555555555555556,
              "#d8576b"
             ],
             [
              0.6666666666666666,
              "#ed7953"
             ],
             [
              0.7777777777777778,
              "#fb9f3a"
             ],
             [
              0.8888888888888888,
              "#fdca26"
             ],
             [
              1,
              "#f0f921"
             ]
            ],
            "type": "histogram2d"
           }
          ],
          "histogram2dcontour": [
           {
            "colorbar": {
             "outlinewidth": 0,
             "ticks": ""
            },
            "colorscale": [
             [
              0,
              "#0d0887"
             ],
             [
              0.1111111111111111,
              "#46039f"
             ],
             [
              0.2222222222222222,
              "#7201a8"
             ],
             [
              0.3333333333333333,
              "#9c179e"
             ],
             [
              0.4444444444444444,
              "#bd3786"
             ],
             [
              0.5555555555555556,
              "#d8576b"
             ],
             [
              0.6666666666666666,
              "#ed7953"
             ],
             [
              0.7777777777777778,
              "#fb9f3a"
             ],
             [
              0.8888888888888888,
              "#fdca26"
             ],
             [
              1,
              "#f0f921"
             ]
            ],
            "type": "histogram2dcontour"
           }
          ],
          "mesh3d": [
           {
            "colorbar": {
             "outlinewidth": 0,
             "ticks": ""
            },
            "type": "mesh3d"
           }
          ],
          "parcoords": [
           {
            "line": {
             "colorbar": {
              "outlinewidth": 0,
              "ticks": ""
             }
            },
            "type": "parcoords"
           }
          ],
          "pie": [
           {
            "automargin": true,
            "type": "pie"
           }
          ],
          "scatter": [
           {
            "marker": {
             "colorbar": {
              "outlinewidth": 0,
              "ticks": ""
             }
            },
            "type": "scatter"
           }
          ],
          "scatter3d": [
           {
            "line": {
             "colorbar": {
              "outlinewidth": 0,
              "ticks": ""
             }
            },
            "marker": {
             "colorbar": {
              "outlinewidth": 0,
              "ticks": ""
             }
            },
            "type": "scatter3d"
           }
          ],
          "scattercarpet": [
           {
            "marker": {
             "colorbar": {
              "outlinewidth": 0,
              "ticks": ""
             }
            },
            "type": "scattercarpet"
           }
          ],
          "scattergeo": [
           {
            "marker": {
             "colorbar": {
              "outlinewidth": 0,
              "ticks": ""
             }
            },
            "type": "scattergeo"
           }
          ],
          "scattergl": [
           {
            "marker": {
             "colorbar": {
              "outlinewidth": 0,
              "ticks": ""
             }
            },
            "type": "scattergl"
           }
          ],
          "scattermapbox": [
           {
            "marker": {
             "colorbar": {
              "outlinewidth": 0,
              "ticks": ""
             }
            },
            "type": "scattermapbox"
           }
          ],
          "scatterpolar": [
           {
            "marker": {
             "colorbar": {
              "outlinewidth": 0,
              "ticks": ""
             }
            },
            "type": "scatterpolar"
           }
          ],
          "scatterpolargl": [
           {
            "marker": {
             "colorbar": {
              "outlinewidth": 0,
              "ticks": ""
             }
            },
            "type": "scatterpolargl"
           }
          ],
          "scatterternary": [
           {
            "marker": {
             "colorbar": {
              "outlinewidth": 0,
              "ticks": ""
             }
            },
            "type": "scatterternary"
           }
          ],
          "surface": [
           {
            "colorbar": {
             "outlinewidth": 0,
             "ticks": ""
            },
            "colorscale": [
             [
              0,
              "#0d0887"
             ],
             [
              0.1111111111111111,
              "#46039f"
             ],
             [
              0.2222222222222222,
              "#7201a8"
             ],
             [
              0.3333333333333333,
              "#9c179e"
             ],
             [
              0.4444444444444444,
              "#bd3786"
             ],
             [
              0.5555555555555556,
              "#d8576b"
             ],
             [
              0.6666666666666666,
              "#ed7953"
             ],
             [
              0.7777777777777778,
              "#fb9f3a"
             ],
             [
              0.8888888888888888,
              "#fdca26"
             ],
             [
              1,
              "#f0f921"
             ]
            ],
            "type": "surface"
           }
          ],
          "table": [
           {
            "cells": {
             "fill": {
              "color": "#EBF0F8"
             },
             "line": {
              "color": "white"
             }
            },
            "header": {
             "fill": {
              "color": "#C8D4E3"
             },
             "line": {
              "color": "white"
             }
            },
            "type": "table"
           }
          ]
         },
         "layout": {
          "annotationdefaults": {
           "arrowcolor": "#2a3f5f",
           "arrowhead": 0,
           "arrowwidth": 1
          },
          "autotypenumbers": "strict",
          "coloraxis": {
           "colorbar": {
            "outlinewidth": 0,
            "ticks": ""
           }
          },
          "colorscale": {
           "diverging": [
            [
             0,
             "#8e0152"
            ],
            [
             0.1,
             "#c51b7d"
            ],
            [
             0.2,
             "#de77ae"
            ],
            [
             0.3,
             "#f1b6da"
            ],
            [
             0.4,
             "#fde0ef"
            ],
            [
             0.5,
             "#f7f7f7"
            ],
            [
             0.6,
             "#e6f5d0"
            ],
            [
             0.7,
             "#b8e186"
            ],
            [
             0.8,
             "#7fbc41"
            ],
            [
             0.9,
             "#4d9221"
            ],
            [
             1,
             "#276419"
            ]
           ],
           "sequential": [
            [
             0,
             "#0d0887"
            ],
            [
             0.1111111111111111,
             "#46039f"
            ],
            [
             0.2222222222222222,
             "#7201a8"
            ],
            [
             0.3333333333333333,
             "#9c179e"
            ],
            [
             0.4444444444444444,
             "#bd3786"
            ],
            [
             0.5555555555555556,
             "#d8576b"
            ],
            [
             0.6666666666666666,
             "#ed7953"
            ],
            [
             0.7777777777777778,
             "#fb9f3a"
            ],
            [
             0.8888888888888888,
             "#fdca26"
            ],
            [
             1,
             "#f0f921"
            ]
           ],
           "sequentialminus": [
            [
             0,
             "#0d0887"
            ],
            [
             0.1111111111111111,
             "#46039f"
            ],
            [
             0.2222222222222222,
             "#7201a8"
            ],
            [
             0.3333333333333333,
             "#9c179e"
            ],
            [
             0.4444444444444444,
             "#bd3786"
            ],
            [
             0.5555555555555556,
             "#d8576b"
            ],
            [
             0.6666666666666666,
             "#ed7953"
            ],
            [
             0.7777777777777778,
             "#fb9f3a"
            ],
            [
             0.8888888888888888,
             "#fdca26"
            ],
            [
             1,
             "#f0f921"
            ]
           ]
          },
          "colorway": [
           "#636efa",
           "#EF553B",
           "#00cc96",
           "#ab63fa",
           "#FFA15A",
           "#19d3f3",
           "#FF6692",
           "#B6E880",
           "#FF97FF",
           "#FECB52"
          ],
          "font": {
           "color": "#2a3f5f"
          },
          "geo": {
           "bgcolor": "white",
           "lakecolor": "white",
           "landcolor": "#E5ECF6",
           "showlakes": true,
           "showland": true,
           "subunitcolor": "white"
          },
          "hoverlabel": {
           "align": "left"
          },
          "hovermode": "closest",
          "mapbox": {
           "style": "light"
          },
          "paper_bgcolor": "white",
          "plot_bgcolor": "#E5ECF6",
          "polar": {
           "angularaxis": {
            "gridcolor": "white",
            "linecolor": "white",
            "ticks": ""
           },
           "bgcolor": "#E5ECF6",
           "radialaxis": {
            "gridcolor": "white",
            "linecolor": "white",
            "ticks": ""
           }
          },
          "scene": {
           "xaxis": {
            "backgroundcolor": "#E5ECF6",
            "gridcolor": "white",
            "gridwidth": 2,
            "linecolor": "white",
            "showbackground": true,
            "ticks": "",
            "zerolinecolor": "white"
           },
           "yaxis": {
            "backgroundcolor": "#E5ECF6",
            "gridcolor": "white",
            "gridwidth": 2,
            "linecolor": "white",
            "showbackground": true,
            "ticks": "",
            "zerolinecolor": "white"
           },
           "zaxis": {
            "backgroundcolor": "#E5ECF6",
            "gridcolor": "white",
            "gridwidth": 2,
            "linecolor": "white",
            "showbackground": true,
            "ticks": "",
            "zerolinecolor": "white"
           }
          },
          "shapedefaults": {
           "line": {
            "color": "#2a3f5f"
           }
          },
          "ternary": {
           "aaxis": {
            "gridcolor": "white",
            "linecolor": "white",
            "ticks": ""
           },
           "baxis": {
            "gridcolor": "white",
            "linecolor": "white",
            "ticks": ""
           },
           "bgcolor": "#E5ECF6",
           "caxis": {
            "gridcolor": "white",
            "linecolor": "white",
            "ticks": ""
           }
          },
          "title": {
           "x": 0.05
          },
          "xaxis": {
           "automargin": true,
           "gridcolor": "white",
           "linecolor": "white",
           "ticks": "",
           "title": {
            "standoff": 15
           },
           "zerolinecolor": "white",
           "zerolinewidth": 2
          },
          "yaxis": {
           "automargin": true,
           "gridcolor": "white",
           "linecolor": "white",
           "ticks": "",
           "title": {
            "standoff": 15
           },
           "zerolinecolor": "white",
           "zerolinewidth": 2
          }
         }
        },
        "title": {
         "text": "Industry Analysis over Portfolio Diversity and P/L%",
         "x": 0.5,
         "xanchor": "center",
         "y": 0.9,
         "yanchor": "top"
        }
       }
      },
      "text/html": [
       "<div>                            <div id=\"07fc868f-213a-42da-89b8-8fe1c21c57fe\" class=\"plotly-graph-div\" style=\"height:525px; width:100%;\"></div>            <script type=\"text/javascript\">                require([\"plotly\"], function(Plotly) {                    window.PLOTLYENV=window.PLOTLYENV || {};                                    if (document.getElementById(\"07fc868f-213a-42da-89b8-8fe1c21c57fe\")) {                    Plotly.newPlot(                        \"07fc868f-213a-42da-89b8-8fe1c21c57fe\",                        [{\"name\": \"Portfolio Diversity %\", \"type\": \"scatter\", \"x\": [\"Major Pharmaceuticals\", \"Other Pharmaceuticals\", \"Other Specialty Stores\", \"Department/Specialty Retail Stores\", \"Computer Communications Equipment\", \"Integrated oil Companies\", \"Computer Software: Prepackaged Software\", \"Real Estate Investment Trusts\", \"Consumer Electronics/Video Chains\", \"Catalog/Specialty Distribution\", \"ETF\", \"Oil & Gas Production\", \"Medical/Nursing Services\", \"Computer Software: Programming, Data Processing\", \"Aerospace\", \"Biotechnology: Biological Products (No Diagnostic Substances)\", \"Air Freight/Delivery Services\", \"Major Chemicals\", \"Marine Transportation\", \"Business Services\", \"Computer Manufacturing\", \"Semiconductors\", \"Beverages (Production/Distribution)\", \"Other Consumer Services\", \"Shoe Manufacturing\", \"Oilfield Services/Equipment\", \"Hotels/Resorts\", \"Television Services\", \"Restaurants\", \"Consumer Electronics/Appliances\", \"Services-Misc. Amusement & Recreation\", \"Commercial Banks\", \"Auto Manufacturing\"], \"y\": [0.83, 0.16, 0.16, 2.44, 0.14, 1.74, 13.86, 2.47, 2.48, 4.8, 7.07, 0.18, 0.47, 8.5, 1.28, 1.63, 2.65, 0.19, 1.89, 13.71, 5.15, 5.33, 2.08, 1.33, 0.44, 2.18, 3.92, 1.32, 1.53, 3.85, 2.69, 0.93, 2.6]}, {\"name\": \"P/L %\", \"type\": \"bar\", \"x\": [\"Major Pharmaceuticals\", \"Other Pharmaceuticals\", \"Other Specialty Stores\", \"Department/Specialty Retail Stores\", \"Computer Communications Equipment\", \"Integrated oil Companies\", \"Computer Software: Prepackaged Software\", \"Real Estate Investment Trusts\", \"Consumer Electronics/Video Chains\", \"Catalog/Specialty Distribution\", \"ETF\", \"Oil & Gas Production\", \"Medical/Nursing Services\", \"Computer Software: Programming, Data Processing\", \"Aerospace\", \"Biotechnology: Biological Products (No Diagnostic Substances)\", \"Air Freight/Delivery Services\", \"Major Chemicals\", \"Marine Transportation\", \"Business Services\", \"Computer Manufacturing\", \"Semiconductors\", \"Beverages (Production/Distribution)\", \"Other Consumer Services\", \"Shoe Manufacturing\", \"Oilfield Services/Equipment\", \"Hotels/Resorts\", \"Television Services\", \"Restaurants\", \"Consumer Electronics/Appliances\", \"Services-Misc. Amusement & Recreation\", \"Commercial Banks\", \"Auto Manufacturing\"], \"y\": [-1.36, 2.48, 5.04, 6.16, 6.7, 7.36, 7.59, 8.5, 9.17, 9.83, 10.02, 13.48, 15.38, 16.17, 18.08, 18.56, 19.0, 20.78, 23.48, 27.58, 28.29, 35.58, 36.28, 36.96, 39.16, 39.78, 40.14, 47.18, 48.18, 52.57, 53.82, 64.3, 82.65]}],                        {\"template\": {\"data\": {\"bar\": [{\"error_x\": {\"color\": \"#2a3f5f\"}, \"error_y\": {\"color\": \"#2a3f5f\"}, \"marker\": {\"line\": {\"color\": \"#E5ECF6\", \"width\": 0.5}}, \"type\": \"bar\"}], \"barpolar\": [{\"marker\": {\"line\": {\"color\": \"#E5ECF6\", \"width\": 0.5}}, \"type\": \"barpolar\"}], \"carpet\": [{\"aaxis\": {\"endlinecolor\": \"#2a3f5f\", \"gridcolor\": \"white\", \"linecolor\": \"white\", \"minorgridcolor\": \"white\", \"startlinecolor\": \"#2a3f5f\"}, \"baxis\": {\"endlinecolor\": \"#2a3f5f\", \"gridcolor\": \"white\", \"linecolor\": \"white\", \"minorgridcolor\": \"white\", \"startlinecolor\": \"#2a3f5f\"}, \"type\": \"carpet\"}], \"choropleth\": [{\"colorbar\": {\"outlinewidth\": 0, \"ticks\": \"\"}, \"type\": \"choropleth\"}], \"contour\": [{\"colorbar\": {\"outlinewidth\": 0, \"ticks\": \"\"}, \"colorscale\": [[0.0, \"#0d0887\"], [0.1111111111111111, \"#46039f\"], [0.2222222222222222, \"#7201a8\"], [0.3333333333333333, \"#9c179e\"], [0.4444444444444444, \"#bd3786\"], [0.5555555555555556, \"#d8576b\"], [0.6666666666666666, \"#ed7953\"], [0.7777777777777778, \"#fb9f3a\"], [0.8888888888888888, \"#fdca26\"], [1.0, \"#f0f921\"]], \"type\": \"contour\"}], \"contourcarpet\": [{\"colorbar\": {\"outlinewidth\": 0, \"ticks\": \"\"}, \"type\": \"contourcarpet\"}], \"heatmap\": [{\"colorbar\": {\"outlinewidth\": 0, \"ticks\": \"\"}, \"colorscale\": [[0.0, \"#0d0887\"], [0.1111111111111111, \"#46039f\"], [0.2222222222222222, \"#7201a8\"], [0.3333333333333333, \"#9c179e\"], [0.4444444444444444, \"#bd3786\"], [0.5555555555555556, \"#d8576b\"], [0.6666666666666666, \"#ed7953\"], [0.7777777777777778, \"#fb9f3a\"], [0.8888888888888888, \"#fdca26\"], [1.0, \"#f0f921\"]], \"type\": \"heatmap\"}], \"heatmapgl\": [{\"colorbar\": {\"outlinewidth\": 0, \"ticks\": \"\"}, \"colorscale\": [[0.0, \"#0d0887\"], [0.1111111111111111, \"#46039f\"], [0.2222222222222222, \"#7201a8\"], [0.3333333333333333, \"#9c179e\"], [0.4444444444444444, \"#bd3786\"], [0.5555555555555556, \"#d8576b\"], [0.6666666666666666, \"#ed7953\"], [0.7777777777777778, \"#fb9f3a\"], [0.8888888888888888, \"#fdca26\"], [1.0, \"#f0f921\"]], \"type\": \"heatmapgl\"}], \"histogram\": [{\"marker\": {\"colorbar\": {\"outlinewidth\": 0, \"ticks\": \"\"}}, \"type\": \"histogram\"}], \"histogram2d\": [{\"colorbar\": {\"outlinewidth\": 0, \"ticks\": \"\"}, \"colorscale\": [[0.0, \"#0d0887\"], [0.1111111111111111, \"#46039f\"], [0.2222222222222222, \"#7201a8\"], [0.3333333333333333, \"#9c179e\"], [0.4444444444444444, \"#bd3786\"], [0.5555555555555556, \"#d8576b\"], [0.6666666666666666, \"#ed7953\"], [0.7777777777777778, \"#fb9f3a\"], [0.8888888888888888, \"#fdca26\"], [1.0, \"#f0f921\"]], \"type\": \"histogram2d\"}], \"histogram2dcontour\": [{\"colorbar\": {\"outlinewidth\": 0, \"ticks\": \"\"}, \"colorscale\": [[0.0, \"#0d0887\"], [0.1111111111111111, \"#46039f\"], [0.2222222222222222, \"#7201a8\"], [0.3333333333333333, \"#9c179e\"], [0.4444444444444444, \"#bd3786\"], [0.5555555555555556, \"#d8576b\"], [0.6666666666666666, \"#ed7953\"], [0.7777777777777778, \"#fb9f3a\"], [0.8888888888888888, \"#fdca26\"], [1.0, \"#f0f921\"]], \"type\": \"histogram2dcontour\"}], \"mesh3d\": [{\"colorbar\": {\"outlinewidth\": 0, \"ticks\": \"\"}, \"type\": \"mesh3d\"}], \"parcoords\": [{\"line\": {\"colorbar\": {\"outlinewidth\": 0, \"ticks\": \"\"}}, \"type\": \"parcoords\"}], \"pie\": [{\"automargin\": true, \"type\": \"pie\"}], \"scatter\": [{\"marker\": {\"colorbar\": {\"outlinewidth\": 0, \"ticks\": \"\"}}, \"type\": \"scatter\"}], \"scatter3d\": [{\"line\": {\"colorbar\": {\"outlinewidth\": 0, \"ticks\": \"\"}}, \"marker\": {\"colorbar\": {\"outlinewidth\": 0, \"ticks\": \"\"}}, \"type\": \"scatter3d\"}], \"scattercarpet\": [{\"marker\": {\"colorbar\": {\"outlinewidth\": 0, \"ticks\": \"\"}}, \"type\": \"scattercarpet\"}], \"scattergeo\": [{\"marker\": {\"colorbar\": {\"outlinewidth\": 0, \"ticks\": \"\"}}, \"type\": \"scattergeo\"}], \"scattergl\": [{\"marker\": {\"colorbar\": {\"outlinewidth\": 0, \"ticks\": \"\"}}, \"type\": \"scattergl\"}], \"scattermapbox\": [{\"marker\": {\"colorbar\": {\"outlinewidth\": 0, \"ticks\": \"\"}}, \"type\": \"scattermapbox\"}], \"scatterpolar\": [{\"marker\": {\"colorbar\": {\"outlinewidth\": 0, \"ticks\": \"\"}}, \"type\": \"scatterpolar\"}], \"scatterpolargl\": [{\"marker\": {\"colorbar\": {\"outlinewidth\": 0, \"ticks\": \"\"}}, \"type\": \"scatterpolargl\"}], \"scatterternary\": [{\"marker\": {\"colorbar\": {\"outlinewidth\": 0, \"ticks\": \"\"}}, \"type\": \"scatterternary\"}], \"surface\": [{\"colorbar\": {\"outlinewidth\": 0, \"ticks\": \"\"}, \"colorscale\": [[0.0, \"#0d0887\"], [0.1111111111111111, \"#46039f\"], [0.2222222222222222, \"#7201a8\"], [0.3333333333333333, \"#9c179e\"], [0.4444444444444444, \"#bd3786\"], [0.5555555555555556, \"#d8576b\"], [0.6666666666666666, \"#ed7953\"], [0.7777777777777778, \"#fb9f3a\"], [0.8888888888888888, \"#fdca26\"], [1.0, \"#f0f921\"]], \"type\": \"surface\"}], \"table\": [{\"cells\": {\"fill\": {\"color\": \"#EBF0F8\"}, \"line\": {\"color\": \"white\"}}, \"header\": {\"fill\": {\"color\": \"#C8D4E3\"}, \"line\": {\"color\": \"white\"}}, \"type\": \"table\"}]}, \"layout\": {\"annotationdefaults\": {\"arrowcolor\": \"#2a3f5f\", \"arrowhead\": 0, \"arrowwidth\": 1}, \"autotypenumbers\": \"strict\", \"coloraxis\": {\"colorbar\": {\"outlinewidth\": 0, \"ticks\": \"\"}}, \"colorscale\": {\"diverging\": [[0, \"#8e0152\"], [0.1, \"#c51b7d\"], [0.2, \"#de77ae\"], [0.3, \"#f1b6da\"], [0.4, \"#fde0ef\"], [0.5, \"#f7f7f7\"], [0.6, \"#e6f5d0\"], [0.7, \"#b8e186\"], [0.8, \"#7fbc41\"], [0.9, \"#4d9221\"], [1, \"#276419\"]], \"sequential\": [[0.0, \"#0d0887\"], [0.1111111111111111, \"#46039f\"], [0.2222222222222222, \"#7201a8\"], [0.3333333333333333, \"#9c179e\"], [0.4444444444444444, \"#bd3786\"], [0.5555555555555556, \"#d8576b\"], [0.6666666666666666, \"#ed7953\"], [0.7777777777777778, \"#fb9f3a\"], [0.8888888888888888, \"#fdca26\"], [1.0, \"#f0f921\"]], \"sequentialminus\": [[0.0, \"#0d0887\"], [0.1111111111111111, \"#46039f\"], [0.2222222222222222, \"#7201a8\"], [0.3333333333333333, \"#9c179e\"], [0.4444444444444444, \"#bd3786\"], [0.5555555555555556, \"#d8576b\"], [0.6666666666666666, \"#ed7953\"], [0.7777777777777778, \"#fb9f3a\"], [0.8888888888888888, \"#fdca26\"], [1.0, \"#f0f921\"]]}, \"colorway\": [\"#636efa\", \"#EF553B\", \"#00cc96\", \"#ab63fa\", \"#FFA15A\", \"#19d3f3\", \"#FF6692\", \"#B6E880\", \"#FF97FF\", \"#FECB52\"], \"font\": {\"color\": \"#2a3f5f\"}, \"geo\": {\"bgcolor\": \"white\", \"lakecolor\": \"white\", \"landcolor\": \"#E5ECF6\", \"showlakes\": true, \"showland\": true, \"subunitcolor\": \"white\"}, \"hoverlabel\": {\"align\": \"left\"}, \"hovermode\": \"closest\", \"mapbox\": {\"style\": \"light\"}, \"paper_bgcolor\": \"white\", \"plot_bgcolor\": \"#E5ECF6\", \"polar\": {\"angularaxis\": {\"gridcolor\": \"white\", \"linecolor\": \"white\", \"ticks\": \"\"}, \"bgcolor\": \"#E5ECF6\", \"radialaxis\": {\"gridcolor\": \"white\", \"linecolor\": \"white\", \"ticks\": \"\"}}, \"scene\": {\"xaxis\": {\"backgroundcolor\": \"#E5ECF6\", \"gridcolor\": \"white\", \"gridwidth\": 2, \"linecolor\": \"white\", \"showbackground\": true, \"ticks\": \"\", \"zerolinecolor\": \"white\"}, \"yaxis\": {\"backgroundcolor\": \"#E5ECF6\", \"gridcolor\": \"white\", \"gridwidth\": 2, \"linecolor\": \"white\", \"showbackground\": true, \"ticks\": \"\", \"zerolinecolor\": \"white\"}, \"zaxis\": {\"backgroundcolor\": \"#E5ECF6\", \"gridcolor\": \"white\", \"gridwidth\": 2, \"linecolor\": \"white\", \"showbackground\": true, \"ticks\": \"\", \"zerolinecolor\": \"white\"}}, \"shapedefaults\": {\"line\": {\"color\": \"#2a3f5f\"}}, \"ternary\": {\"aaxis\": {\"gridcolor\": \"white\", \"linecolor\": \"white\", \"ticks\": \"\"}, \"baxis\": {\"gridcolor\": \"white\", \"linecolor\": \"white\", \"ticks\": \"\"}, \"bgcolor\": \"#E5ECF6\", \"caxis\": {\"gridcolor\": \"white\", \"linecolor\": \"white\", \"ticks\": \"\"}}, \"title\": {\"x\": 0.05}, \"xaxis\": {\"automargin\": true, \"gridcolor\": \"white\", \"linecolor\": \"white\", \"ticks\": \"\", \"title\": {\"standoff\": 15}, \"zerolinecolor\": \"white\", \"zerolinewidth\": 2}, \"yaxis\": {\"automargin\": true, \"gridcolor\": \"white\", \"linecolor\": \"white\", \"ticks\": \"\", \"title\": {\"standoff\": 15}, \"zerolinecolor\": \"white\", \"zerolinewidth\": 2}}}, \"title\": {\"text\": \"Industry Analysis over Portfolio Diversity and P/L%\", \"x\": 0.5, \"xanchor\": \"center\", \"y\": 0.9, \"yanchor\": \"top\"}},                        {\"responsive\": true}                    ).then(function(){\n",
       "                            \n",
       "var gd = document.getElementById('07fc868f-213a-42da-89b8-8fe1c21c57fe');\n",
       "var x = new MutationObserver(function (mutations, observer) {{\n",
       "        var display = window.getComputedStyle(gd).display;\n",
       "        if (!display || display === 'none') {{\n",
       "            console.log([gd, 'removed!']);\n",
       "            Plotly.purge(gd);\n",
       "            observer.disconnect();\n",
       "        }}\n",
       "}});\n",
       "\n",
       "// Listen for the removal of the full notebook cells\n",
       "var notebookContainer = gd.closest('#notebook-container');\n",
       "if (notebookContainer) {{\n",
       "    x.observe(notebookContainer, {childList: true});\n",
       "}}\n",
       "\n",
       "// Listen for the clearing of the current output cell\n",
       "var outputEl = gd.closest('.output');\n",
       "if (outputEl) {{\n",
       "    x.observe(outputEl, {childList: true});\n",
       "}}\n",
       "\n",
       "                        })                };                });            </script>        </div>"
      ]
     },
     "metadata": {},
     "output_type": "display_data"
    }
   ],
   "source": [
    "#from plotly import plotly\n",
    "import plotly.graph_objs as go\n",
    "#import plotly.graph_objects as go\n",
    "from plotly.offline import plot\n",
    "\n",
    "#Code to Display Industry Analysis over Portfolio Diversity and Profit/Loss %\n",
    "\n",
    "fig = go.Figure()\n",
    "\n",
    "fig.add_trace(\n",
    "    go.Scatter(\n",
    "        x=industrySummary['Industry'],\n",
    "        y=industrySummary['Portfolio Diversity'],\n",
    "        name='Portfolio Diversity %'\n",
    "    ))\n",
    "\n",
    "fig.add_trace(\n",
    "    go.Bar(\n",
    "        \n",
    "        x=industrySummary['Industry'],\n",
    "        y=industrySummary['Profit/Loss Percentage'],\n",
    "        name='P/L %'\n",
    "    ))\n",
    "fig.layout.update(\n",
    "    title={\n",
    "        'text': \"Industry Analysis over Portfolio Diversity and P/L%\",\n",
    "        'y':0.9,\n",
    "        'x':0.5,\n",
    "        'xanchor': 'center',\n",
    "        'yanchor': 'top'})\n",
    "\n",
    "fig.show()\n"
   ]
  },
  {
   "cell_type": "code",
   "execution_count": 40,
   "metadata": {},
   "outputs": [
    {
     "data": {
      "application/vnd.plotly.v1+json": {
       "config": {
        "plotlyServerURL": "https://plot.ly"
       },
       "data": [
        {
         "name": "Portfolio Diversity %",
         "type": "scatter",
         "x": [
          "ETF",
          "Health Care",
          "Technology",
          "Transportation",
          "Basic Industries",
          "Consumer Services",
          "Miscellaneous",
          "Energy",
          "Consumer Non-Durables",
          "Capital Goods",
          "Finance"
         ],
         "y": [
          7.07,
          3.09,
          32.99,
          2.65,
          0.19,
          25.03,
          13.71,
          4.79,
          5.67,
          3.88,
          0.93
         ]
        },
        {
         "name": "P/L %",
         "type": "bar",
         "x": [
          "ETF",
          "Health Care",
          "Technology",
          "Transportation",
          "Basic Industries",
          "Consumer Services",
          "Miscellaneous",
          "Energy",
          "Consumer Non-Durables",
          "Capital Goods",
          "Finance"
         ],
         "y": [
          10.02,
          11.19,
          16.64,
          19,
          20.78,
          23.51,
          27.58,
          28.51,
          42.85,
          54.69,
          64.3
         ]
        }
       ],
       "layout": {
        "template": {
         "data": {
          "bar": [
           {
            "error_x": {
             "color": "#2a3f5f"
            },
            "error_y": {
             "color": "#2a3f5f"
            },
            "marker": {
             "line": {
              "color": "#E5ECF6",
              "width": 0.5
             }
            },
            "type": "bar"
           }
          ],
          "barpolar": [
           {
            "marker": {
             "line": {
              "color": "#E5ECF6",
              "width": 0.5
             }
            },
            "type": "barpolar"
           }
          ],
          "carpet": [
           {
            "aaxis": {
             "endlinecolor": "#2a3f5f",
             "gridcolor": "white",
             "linecolor": "white",
             "minorgridcolor": "white",
             "startlinecolor": "#2a3f5f"
            },
            "baxis": {
             "endlinecolor": "#2a3f5f",
             "gridcolor": "white",
             "linecolor": "white",
             "minorgridcolor": "white",
             "startlinecolor": "#2a3f5f"
            },
            "type": "carpet"
           }
          ],
          "choropleth": [
           {
            "colorbar": {
             "outlinewidth": 0,
             "ticks": ""
            },
            "type": "choropleth"
           }
          ],
          "contour": [
           {
            "colorbar": {
             "outlinewidth": 0,
             "ticks": ""
            },
            "colorscale": [
             [
              0,
              "#0d0887"
             ],
             [
              0.1111111111111111,
              "#46039f"
             ],
             [
              0.2222222222222222,
              "#7201a8"
             ],
             [
              0.3333333333333333,
              "#9c179e"
             ],
             [
              0.4444444444444444,
              "#bd3786"
             ],
             [
              0.5555555555555556,
              "#d8576b"
             ],
             [
              0.6666666666666666,
              "#ed7953"
             ],
             [
              0.7777777777777778,
              "#fb9f3a"
             ],
             [
              0.8888888888888888,
              "#fdca26"
             ],
             [
              1,
              "#f0f921"
             ]
            ],
            "type": "contour"
           }
          ],
          "contourcarpet": [
           {
            "colorbar": {
             "outlinewidth": 0,
             "ticks": ""
            },
            "type": "contourcarpet"
           }
          ],
          "heatmap": [
           {
            "colorbar": {
             "outlinewidth": 0,
             "ticks": ""
            },
            "colorscale": [
             [
              0,
              "#0d0887"
             ],
             [
              0.1111111111111111,
              "#46039f"
             ],
             [
              0.2222222222222222,
              "#7201a8"
             ],
             [
              0.3333333333333333,
              "#9c179e"
             ],
             [
              0.4444444444444444,
              "#bd3786"
             ],
             [
              0.5555555555555556,
              "#d8576b"
             ],
             [
              0.6666666666666666,
              "#ed7953"
             ],
             [
              0.7777777777777778,
              "#fb9f3a"
             ],
             [
              0.8888888888888888,
              "#fdca26"
             ],
             [
              1,
              "#f0f921"
             ]
            ],
            "type": "heatmap"
           }
          ],
          "heatmapgl": [
           {
            "colorbar": {
             "outlinewidth": 0,
             "ticks": ""
            },
            "colorscale": [
             [
              0,
              "#0d0887"
             ],
             [
              0.1111111111111111,
              "#46039f"
             ],
             [
              0.2222222222222222,
              "#7201a8"
             ],
             [
              0.3333333333333333,
              "#9c179e"
             ],
             [
              0.4444444444444444,
              "#bd3786"
             ],
             [
              0.5555555555555556,
              "#d8576b"
             ],
             [
              0.6666666666666666,
              "#ed7953"
             ],
             [
              0.7777777777777778,
              "#fb9f3a"
             ],
             [
              0.8888888888888888,
              "#fdca26"
             ],
             [
              1,
              "#f0f921"
             ]
            ],
            "type": "heatmapgl"
           }
          ],
          "histogram": [
           {
            "marker": {
             "colorbar": {
              "outlinewidth": 0,
              "ticks": ""
             }
            },
            "type": "histogram"
           }
          ],
          "histogram2d": [
           {
            "colorbar": {
             "outlinewidth": 0,
             "ticks": ""
            },
            "colorscale": [
             [
              0,
              "#0d0887"
             ],
             [
              0.1111111111111111,
              "#46039f"
             ],
             [
              0.2222222222222222,
              "#7201a8"
             ],
             [
              0.3333333333333333,
              "#9c179e"
             ],
             [
              0.4444444444444444,
              "#bd3786"
             ],
             [
              0.5555555555555556,
              "#d8576b"
             ],
             [
              0.6666666666666666,
              "#ed7953"
             ],
             [
              0.7777777777777778,
              "#fb9f3a"
             ],
             [
              0.8888888888888888,
              "#fdca26"
             ],
             [
              1,
              "#f0f921"
             ]
            ],
            "type": "histogram2d"
           }
          ],
          "histogram2dcontour": [
           {
            "colorbar": {
             "outlinewidth": 0,
             "ticks": ""
            },
            "colorscale": [
             [
              0,
              "#0d0887"
             ],
             [
              0.1111111111111111,
              "#46039f"
             ],
             [
              0.2222222222222222,
              "#7201a8"
             ],
             [
              0.3333333333333333,
              "#9c179e"
             ],
             [
              0.4444444444444444,
              "#bd3786"
             ],
             [
              0.5555555555555556,
              "#d8576b"
             ],
             [
              0.6666666666666666,
              "#ed7953"
             ],
             [
              0.7777777777777778,
              "#fb9f3a"
             ],
             [
              0.8888888888888888,
              "#fdca26"
             ],
             [
              1,
              "#f0f921"
             ]
            ],
            "type": "histogram2dcontour"
           }
          ],
          "mesh3d": [
           {
            "colorbar": {
             "outlinewidth": 0,
             "ticks": ""
            },
            "type": "mesh3d"
           }
          ],
          "parcoords": [
           {
            "line": {
             "colorbar": {
              "outlinewidth": 0,
              "ticks": ""
             }
            },
            "type": "parcoords"
           }
          ],
          "pie": [
           {
            "automargin": true,
            "type": "pie"
           }
          ],
          "scatter": [
           {
            "marker": {
             "colorbar": {
              "outlinewidth": 0,
              "ticks": ""
             }
            },
            "type": "scatter"
           }
          ],
          "scatter3d": [
           {
            "line": {
             "colorbar": {
              "outlinewidth": 0,
              "ticks": ""
             }
            },
            "marker": {
             "colorbar": {
              "outlinewidth": 0,
              "ticks": ""
             }
            },
            "type": "scatter3d"
           }
          ],
          "scattercarpet": [
           {
            "marker": {
             "colorbar": {
              "outlinewidth": 0,
              "ticks": ""
             }
            },
            "type": "scattercarpet"
           }
          ],
          "scattergeo": [
           {
            "marker": {
             "colorbar": {
              "outlinewidth": 0,
              "ticks": ""
             }
            },
            "type": "scattergeo"
           }
          ],
          "scattergl": [
           {
            "marker": {
             "colorbar": {
              "outlinewidth": 0,
              "ticks": ""
             }
            },
            "type": "scattergl"
           }
          ],
          "scattermapbox": [
           {
            "marker": {
             "colorbar": {
              "outlinewidth": 0,
              "ticks": ""
             }
            },
            "type": "scattermapbox"
           }
          ],
          "scatterpolar": [
           {
            "marker": {
             "colorbar": {
              "outlinewidth": 0,
              "ticks": ""
             }
            },
            "type": "scatterpolar"
           }
          ],
          "scatterpolargl": [
           {
            "marker": {
             "colorbar": {
              "outlinewidth": 0,
              "ticks": ""
             }
            },
            "type": "scatterpolargl"
           }
          ],
          "scatterternary": [
           {
            "marker": {
             "colorbar": {
              "outlinewidth": 0,
              "ticks": ""
             }
            },
            "type": "scatterternary"
           }
          ],
          "surface": [
           {
            "colorbar": {
             "outlinewidth": 0,
             "ticks": ""
            },
            "colorscale": [
             [
              0,
              "#0d0887"
             ],
             [
              0.1111111111111111,
              "#46039f"
             ],
             [
              0.2222222222222222,
              "#7201a8"
             ],
             [
              0.3333333333333333,
              "#9c179e"
             ],
             [
              0.4444444444444444,
              "#bd3786"
             ],
             [
              0.5555555555555556,
              "#d8576b"
             ],
             [
              0.6666666666666666,
              "#ed7953"
             ],
             [
              0.7777777777777778,
              "#fb9f3a"
             ],
             [
              0.8888888888888888,
              "#fdca26"
             ],
             [
              1,
              "#f0f921"
             ]
            ],
            "type": "surface"
           }
          ],
          "table": [
           {
            "cells": {
             "fill": {
              "color": "#EBF0F8"
             },
             "line": {
              "color": "white"
             }
            },
            "header": {
             "fill": {
              "color": "#C8D4E3"
             },
             "line": {
              "color": "white"
             }
            },
            "type": "table"
           }
          ]
         },
         "layout": {
          "annotationdefaults": {
           "arrowcolor": "#2a3f5f",
           "arrowhead": 0,
           "arrowwidth": 1
          },
          "autotypenumbers": "strict",
          "coloraxis": {
           "colorbar": {
            "outlinewidth": 0,
            "ticks": ""
           }
          },
          "colorscale": {
           "diverging": [
            [
             0,
             "#8e0152"
            ],
            [
             0.1,
             "#c51b7d"
            ],
            [
             0.2,
             "#de77ae"
            ],
            [
             0.3,
             "#f1b6da"
            ],
            [
             0.4,
             "#fde0ef"
            ],
            [
             0.5,
             "#f7f7f7"
            ],
            [
             0.6,
             "#e6f5d0"
            ],
            [
             0.7,
             "#b8e186"
            ],
            [
             0.8,
             "#7fbc41"
            ],
            [
             0.9,
             "#4d9221"
            ],
            [
             1,
             "#276419"
            ]
           ],
           "sequential": [
            [
             0,
             "#0d0887"
            ],
            [
             0.1111111111111111,
             "#46039f"
            ],
            [
             0.2222222222222222,
             "#7201a8"
            ],
            [
             0.3333333333333333,
             "#9c179e"
            ],
            [
             0.4444444444444444,
             "#bd3786"
            ],
            [
             0.5555555555555556,
             "#d8576b"
            ],
            [
             0.6666666666666666,
             "#ed7953"
            ],
            [
             0.7777777777777778,
             "#fb9f3a"
            ],
            [
             0.8888888888888888,
             "#fdca26"
            ],
            [
             1,
             "#f0f921"
            ]
           ],
           "sequentialminus": [
            [
             0,
             "#0d0887"
            ],
            [
             0.1111111111111111,
             "#46039f"
            ],
            [
             0.2222222222222222,
             "#7201a8"
            ],
            [
             0.3333333333333333,
             "#9c179e"
            ],
            [
             0.4444444444444444,
             "#bd3786"
            ],
            [
             0.5555555555555556,
             "#d8576b"
            ],
            [
             0.6666666666666666,
             "#ed7953"
            ],
            [
             0.7777777777777778,
             "#fb9f3a"
            ],
            [
             0.8888888888888888,
             "#fdca26"
            ],
            [
             1,
             "#f0f921"
            ]
           ]
          },
          "colorway": [
           "#636efa",
           "#EF553B",
           "#00cc96",
           "#ab63fa",
           "#FFA15A",
           "#19d3f3",
           "#FF6692",
           "#B6E880",
           "#FF97FF",
           "#FECB52"
          ],
          "font": {
           "color": "#2a3f5f"
          },
          "geo": {
           "bgcolor": "white",
           "lakecolor": "white",
           "landcolor": "#E5ECF6",
           "showlakes": true,
           "showland": true,
           "subunitcolor": "white"
          },
          "hoverlabel": {
           "align": "left"
          },
          "hovermode": "closest",
          "mapbox": {
           "style": "light"
          },
          "paper_bgcolor": "white",
          "plot_bgcolor": "#E5ECF6",
          "polar": {
           "angularaxis": {
            "gridcolor": "white",
            "linecolor": "white",
            "ticks": ""
           },
           "bgcolor": "#E5ECF6",
           "radialaxis": {
            "gridcolor": "white",
            "linecolor": "white",
            "ticks": ""
           }
          },
          "scene": {
           "xaxis": {
            "backgroundcolor": "#E5ECF6",
            "gridcolor": "white",
            "gridwidth": 2,
            "linecolor": "white",
            "showbackground": true,
            "ticks": "",
            "zerolinecolor": "white"
           },
           "yaxis": {
            "backgroundcolor": "#E5ECF6",
            "gridcolor": "white",
            "gridwidth": 2,
            "linecolor": "white",
            "showbackground": true,
            "ticks": "",
            "zerolinecolor": "white"
           },
           "zaxis": {
            "backgroundcolor": "#E5ECF6",
            "gridcolor": "white",
            "gridwidth": 2,
            "linecolor": "white",
            "showbackground": true,
            "ticks": "",
            "zerolinecolor": "white"
           }
          },
          "shapedefaults": {
           "line": {
            "color": "#2a3f5f"
           }
          },
          "ternary": {
           "aaxis": {
            "gridcolor": "white",
            "linecolor": "white",
            "ticks": ""
           },
           "baxis": {
            "gridcolor": "white",
            "linecolor": "white",
            "ticks": ""
           },
           "bgcolor": "#E5ECF6",
           "caxis": {
            "gridcolor": "white",
            "linecolor": "white",
            "ticks": ""
           }
          },
          "title": {
           "x": 0.05
          },
          "xaxis": {
           "automargin": true,
           "gridcolor": "white",
           "linecolor": "white",
           "ticks": "",
           "title": {
            "standoff": 15
           },
           "zerolinecolor": "white",
           "zerolinewidth": 2
          },
          "yaxis": {
           "automargin": true,
           "gridcolor": "white",
           "linecolor": "white",
           "ticks": "",
           "title": {
            "standoff": 15
           },
           "zerolinecolor": "white",
           "zerolinewidth": 2
          }
         }
        },
        "title": {
         "text": "Sector Analysis over Portfolio Diversity and P/L%",
         "x": 0.5,
         "xanchor": "center",
         "y": 0.9,
         "yanchor": "top"
        }
       }
      },
      "text/html": [
       "<div>                            <div id=\"31f0061b-e2d7-4c17-82ee-689358724644\" class=\"plotly-graph-div\" style=\"height:525px; width:100%;\"></div>            <script type=\"text/javascript\">                require([\"plotly\"], function(Plotly) {                    window.PLOTLYENV=window.PLOTLYENV || {};                                    if (document.getElementById(\"31f0061b-e2d7-4c17-82ee-689358724644\")) {                    Plotly.newPlot(                        \"31f0061b-e2d7-4c17-82ee-689358724644\",                        [{\"name\": \"Portfolio Diversity %\", \"type\": \"scatter\", \"x\": [\"ETF\", \"Health Care\", \"Technology\", \"Transportation\", \"Basic Industries\", \"Consumer Services\", \"Miscellaneous\", \"Energy\", \"Consumer Non-Durables\", \"Capital Goods\", \"Finance\"], \"y\": [7.07, 3.09, 32.99, 2.65, 0.19, 25.03, 13.71, 4.79, 5.67, 3.88, 0.93]}, {\"name\": \"P/L %\", \"type\": \"bar\", \"x\": [\"ETF\", \"Health Care\", \"Technology\", \"Transportation\", \"Basic Industries\", \"Consumer Services\", \"Miscellaneous\", \"Energy\", \"Consumer Non-Durables\", \"Capital Goods\", \"Finance\"], \"y\": [10.02, 11.19, 16.64, 19.0, 20.78, 23.51, 27.58, 28.51, 42.85, 54.69, 64.3]}],                        {\"template\": {\"data\": {\"bar\": [{\"error_x\": {\"color\": \"#2a3f5f\"}, \"error_y\": {\"color\": \"#2a3f5f\"}, \"marker\": {\"line\": {\"color\": \"#E5ECF6\", \"width\": 0.5}}, \"type\": \"bar\"}], \"barpolar\": [{\"marker\": {\"line\": {\"color\": \"#E5ECF6\", \"width\": 0.5}}, \"type\": \"barpolar\"}], \"carpet\": [{\"aaxis\": {\"endlinecolor\": \"#2a3f5f\", \"gridcolor\": \"white\", \"linecolor\": \"white\", \"minorgridcolor\": \"white\", \"startlinecolor\": \"#2a3f5f\"}, \"baxis\": {\"endlinecolor\": \"#2a3f5f\", \"gridcolor\": \"white\", \"linecolor\": \"white\", \"minorgridcolor\": \"white\", \"startlinecolor\": \"#2a3f5f\"}, \"type\": \"carpet\"}], \"choropleth\": [{\"colorbar\": {\"outlinewidth\": 0, \"ticks\": \"\"}, \"type\": \"choropleth\"}], \"contour\": [{\"colorbar\": {\"outlinewidth\": 0, \"ticks\": \"\"}, \"colorscale\": [[0.0, \"#0d0887\"], [0.1111111111111111, \"#46039f\"], [0.2222222222222222, \"#7201a8\"], [0.3333333333333333, \"#9c179e\"], [0.4444444444444444, \"#bd3786\"], [0.5555555555555556, \"#d8576b\"], [0.6666666666666666, \"#ed7953\"], [0.7777777777777778, \"#fb9f3a\"], [0.8888888888888888, \"#fdca26\"], [1.0, \"#f0f921\"]], \"type\": \"contour\"}], \"contourcarpet\": [{\"colorbar\": {\"outlinewidth\": 0, \"ticks\": \"\"}, \"type\": \"contourcarpet\"}], \"heatmap\": [{\"colorbar\": {\"outlinewidth\": 0, \"ticks\": \"\"}, \"colorscale\": [[0.0, \"#0d0887\"], [0.1111111111111111, \"#46039f\"], [0.2222222222222222, \"#7201a8\"], [0.3333333333333333, \"#9c179e\"], [0.4444444444444444, \"#bd3786\"], [0.5555555555555556, \"#d8576b\"], [0.6666666666666666, \"#ed7953\"], [0.7777777777777778, \"#fb9f3a\"], [0.8888888888888888, \"#fdca26\"], [1.0, \"#f0f921\"]], \"type\": \"heatmap\"}], \"heatmapgl\": [{\"colorbar\": {\"outlinewidth\": 0, \"ticks\": \"\"}, \"colorscale\": [[0.0, \"#0d0887\"], [0.1111111111111111, \"#46039f\"], [0.2222222222222222, \"#7201a8\"], [0.3333333333333333, \"#9c179e\"], [0.4444444444444444, \"#bd3786\"], [0.5555555555555556, \"#d8576b\"], [0.6666666666666666, \"#ed7953\"], [0.7777777777777778, \"#fb9f3a\"], [0.8888888888888888, \"#fdca26\"], [1.0, \"#f0f921\"]], \"type\": \"heatmapgl\"}], \"histogram\": [{\"marker\": {\"colorbar\": {\"outlinewidth\": 0, \"ticks\": \"\"}}, \"type\": \"histogram\"}], \"histogram2d\": [{\"colorbar\": {\"outlinewidth\": 0, \"ticks\": \"\"}, \"colorscale\": [[0.0, \"#0d0887\"], [0.1111111111111111, \"#46039f\"], [0.2222222222222222, \"#7201a8\"], [0.3333333333333333, \"#9c179e\"], [0.4444444444444444, \"#bd3786\"], [0.5555555555555556, \"#d8576b\"], [0.6666666666666666, \"#ed7953\"], [0.7777777777777778, \"#fb9f3a\"], [0.8888888888888888, \"#fdca26\"], [1.0, \"#f0f921\"]], \"type\": \"histogram2d\"}], \"histogram2dcontour\": [{\"colorbar\": {\"outlinewidth\": 0, \"ticks\": \"\"}, \"colorscale\": [[0.0, \"#0d0887\"], [0.1111111111111111, \"#46039f\"], [0.2222222222222222, \"#7201a8\"], [0.3333333333333333, \"#9c179e\"], [0.4444444444444444, \"#bd3786\"], [0.5555555555555556, \"#d8576b\"], [0.6666666666666666, \"#ed7953\"], [0.7777777777777778, \"#fb9f3a\"], [0.8888888888888888, \"#fdca26\"], [1.0, \"#f0f921\"]], \"type\": \"histogram2dcontour\"}], \"mesh3d\": [{\"colorbar\": {\"outlinewidth\": 0, \"ticks\": \"\"}, \"type\": \"mesh3d\"}], \"parcoords\": [{\"line\": {\"colorbar\": {\"outlinewidth\": 0, \"ticks\": \"\"}}, \"type\": \"parcoords\"}], \"pie\": [{\"automargin\": true, \"type\": \"pie\"}], \"scatter\": [{\"marker\": {\"colorbar\": {\"outlinewidth\": 0, \"ticks\": \"\"}}, \"type\": \"scatter\"}], \"scatter3d\": [{\"line\": {\"colorbar\": {\"outlinewidth\": 0, \"ticks\": \"\"}}, \"marker\": {\"colorbar\": {\"outlinewidth\": 0, \"ticks\": \"\"}}, \"type\": \"scatter3d\"}], \"scattercarpet\": [{\"marker\": {\"colorbar\": {\"outlinewidth\": 0, \"ticks\": \"\"}}, \"type\": \"scattercarpet\"}], \"scattergeo\": [{\"marker\": {\"colorbar\": {\"outlinewidth\": 0, \"ticks\": \"\"}}, \"type\": \"scattergeo\"}], \"scattergl\": [{\"marker\": {\"colorbar\": {\"outlinewidth\": 0, \"ticks\": \"\"}}, \"type\": \"scattergl\"}], \"scattermapbox\": [{\"marker\": {\"colorbar\": {\"outlinewidth\": 0, \"ticks\": \"\"}}, \"type\": \"scattermapbox\"}], \"scatterpolar\": [{\"marker\": {\"colorbar\": {\"outlinewidth\": 0, \"ticks\": \"\"}}, \"type\": \"scatterpolar\"}], \"scatterpolargl\": [{\"marker\": {\"colorbar\": {\"outlinewidth\": 0, \"ticks\": \"\"}}, \"type\": \"scatterpolargl\"}], \"scatterternary\": [{\"marker\": {\"colorbar\": {\"outlinewidth\": 0, \"ticks\": \"\"}}, \"type\": \"scatterternary\"}], \"surface\": [{\"colorbar\": {\"outlinewidth\": 0, \"ticks\": \"\"}, \"colorscale\": [[0.0, \"#0d0887\"], [0.1111111111111111, \"#46039f\"], [0.2222222222222222, \"#7201a8\"], [0.3333333333333333, \"#9c179e\"], [0.4444444444444444, \"#bd3786\"], [0.5555555555555556, \"#d8576b\"], [0.6666666666666666, \"#ed7953\"], [0.7777777777777778, \"#fb9f3a\"], [0.8888888888888888, \"#fdca26\"], [1.0, \"#f0f921\"]], \"type\": \"surface\"}], \"table\": [{\"cells\": {\"fill\": {\"color\": \"#EBF0F8\"}, \"line\": {\"color\": \"white\"}}, \"header\": {\"fill\": {\"color\": \"#C8D4E3\"}, \"line\": {\"color\": \"white\"}}, \"type\": \"table\"}]}, \"layout\": {\"annotationdefaults\": {\"arrowcolor\": \"#2a3f5f\", \"arrowhead\": 0, \"arrowwidth\": 1}, \"autotypenumbers\": \"strict\", \"coloraxis\": {\"colorbar\": {\"outlinewidth\": 0, \"ticks\": \"\"}}, \"colorscale\": {\"diverging\": [[0, \"#8e0152\"], [0.1, \"#c51b7d\"], [0.2, \"#de77ae\"], [0.3, \"#f1b6da\"], [0.4, \"#fde0ef\"], [0.5, \"#f7f7f7\"], [0.6, \"#e6f5d0\"], [0.7, \"#b8e186\"], [0.8, \"#7fbc41\"], [0.9, \"#4d9221\"], [1, \"#276419\"]], \"sequential\": [[0.0, \"#0d0887\"], [0.1111111111111111, \"#46039f\"], [0.2222222222222222, \"#7201a8\"], [0.3333333333333333, \"#9c179e\"], [0.4444444444444444, \"#bd3786\"], [0.5555555555555556, \"#d8576b\"], [0.6666666666666666, \"#ed7953\"], [0.7777777777777778, \"#fb9f3a\"], [0.8888888888888888, \"#fdca26\"], [1.0, \"#f0f921\"]], \"sequentialminus\": [[0.0, \"#0d0887\"], [0.1111111111111111, \"#46039f\"], [0.2222222222222222, \"#7201a8\"], [0.3333333333333333, \"#9c179e\"], [0.4444444444444444, \"#bd3786\"], [0.5555555555555556, \"#d8576b\"], [0.6666666666666666, \"#ed7953\"], [0.7777777777777778, \"#fb9f3a\"], [0.8888888888888888, \"#fdca26\"], [1.0, \"#f0f921\"]]}, \"colorway\": [\"#636efa\", \"#EF553B\", \"#00cc96\", \"#ab63fa\", \"#FFA15A\", \"#19d3f3\", \"#FF6692\", \"#B6E880\", \"#FF97FF\", \"#FECB52\"], \"font\": {\"color\": \"#2a3f5f\"}, \"geo\": {\"bgcolor\": \"white\", \"lakecolor\": \"white\", \"landcolor\": \"#E5ECF6\", \"showlakes\": true, \"showland\": true, \"subunitcolor\": \"white\"}, \"hoverlabel\": {\"align\": \"left\"}, \"hovermode\": \"closest\", \"mapbox\": {\"style\": \"light\"}, \"paper_bgcolor\": \"white\", \"plot_bgcolor\": \"#E5ECF6\", \"polar\": {\"angularaxis\": {\"gridcolor\": \"white\", \"linecolor\": \"white\", \"ticks\": \"\"}, \"bgcolor\": \"#E5ECF6\", \"radialaxis\": {\"gridcolor\": \"white\", \"linecolor\": \"white\", \"ticks\": \"\"}}, \"scene\": {\"xaxis\": {\"backgroundcolor\": \"#E5ECF6\", \"gridcolor\": \"white\", \"gridwidth\": 2, \"linecolor\": \"white\", \"showbackground\": true, \"ticks\": \"\", \"zerolinecolor\": \"white\"}, \"yaxis\": {\"backgroundcolor\": \"#E5ECF6\", \"gridcolor\": \"white\", \"gridwidth\": 2, \"linecolor\": \"white\", \"showbackground\": true, \"ticks\": \"\", \"zerolinecolor\": \"white\"}, \"zaxis\": {\"backgroundcolor\": \"#E5ECF6\", \"gridcolor\": \"white\", \"gridwidth\": 2, \"linecolor\": \"white\", \"showbackground\": true, \"ticks\": \"\", \"zerolinecolor\": \"white\"}}, \"shapedefaults\": {\"line\": {\"color\": \"#2a3f5f\"}}, \"ternary\": {\"aaxis\": {\"gridcolor\": \"white\", \"linecolor\": \"white\", \"ticks\": \"\"}, \"baxis\": {\"gridcolor\": \"white\", \"linecolor\": \"white\", \"ticks\": \"\"}, \"bgcolor\": \"#E5ECF6\", \"caxis\": {\"gridcolor\": \"white\", \"linecolor\": \"white\", \"ticks\": \"\"}}, \"title\": {\"x\": 0.05}, \"xaxis\": {\"automargin\": true, \"gridcolor\": \"white\", \"linecolor\": \"white\", \"ticks\": \"\", \"title\": {\"standoff\": 15}, \"zerolinecolor\": \"white\", \"zerolinewidth\": 2}, \"yaxis\": {\"automargin\": true, \"gridcolor\": \"white\", \"linecolor\": \"white\", \"ticks\": \"\", \"title\": {\"standoff\": 15}, \"zerolinecolor\": \"white\", \"zerolinewidth\": 2}}}, \"title\": {\"text\": \"Sector Analysis over Portfolio Diversity and P/L%\", \"x\": 0.5, \"xanchor\": \"center\", \"y\": 0.9, \"yanchor\": \"top\"}},                        {\"responsive\": true}                    ).then(function(){\n",
       "                            \n",
       "var gd = document.getElementById('31f0061b-e2d7-4c17-82ee-689358724644');\n",
       "var x = new MutationObserver(function (mutations, observer) {{\n",
       "        var display = window.getComputedStyle(gd).display;\n",
       "        if (!display || display === 'none') {{\n",
       "            console.log([gd, 'removed!']);\n",
       "            Plotly.purge(gd);\n",
       "            observer.disconnect();\n",
       "        }}\n",
       "}});\n",
       "\n",
       "// Listen for the removal of the full notebook cells\n",
       "var notebookContainer = gd.closest('#notebook-container');\n",
       "if (notebookContainer) {{\n",
       "    x.observe(notebookContainer, {childList: true});\n",
       "}}\n",
       "\n",
       "// Listen for the clearing of the current output cell\n",
       "var outputEl = gd.closest('.output');\n",
       "if (outputEl) {{\n",
       "    x.observe(outputEl, {childList: true});\n",
       "}}\n",
       "\n",
       "                        })                };                });            </script>        </div>"
      ]
     },
     "metadata": {},
     "output_type": "display_data"
    }
   ],
   "source": [
    "#Code to Display Sector Analysis over Portfolio Diversity and Profit/Loss %\n",
    "\n",
    "\n",
    "fig = go.Figure()\n",
    "\n",
    "fig.add_trace(\n",
    "    go.Scatter(\n",
    "        x=sectorSummary['Sector'],\n",
    "        y=sectorSummary['Portfolio Diversity'],\n",
    "        name='Portfolio Diversity %'\n",
    "    ))\n",
    "\n",
    "fig.add_trace(\n",
    "    go.Bar(\n",
    "        \n",
    "        x=sectorSummary['Sector'],\n",
    "        y=sectorSummary['Profit/Loss Percentage'],\n",
    "        name='P/L %'\n",
    "    ))\n",
    "\n",
    "fig.layout.update(\n",
    "    title={\n",
    "        'text': \"Sector Analysis over Portfolio Diversity and P/L%\",\n",
    "        'y':0.9,\n",
    "        'x':0.5,\n",
    "        'xanchor': 'center',\n",
    "        'yanchor': 'top'})\n",
    "\n",
    "fig.show()"
   ]
  },
  {
   "cell_type": "code",
   "execution_count": 53,
   "metadata": {},
   "outputs": [
    {
     "data": {
      "application/vnd.plotly.v1+json": {
       "config": {
        "plotlyServerURL": "https://plot.ly"
       },
       "data": [
        {
         "marker": {
          "color": "darkred"
         },
         "name": "<40%",
         "orientation": "h",
         "type": "bar",
         "uid": "e2347a8a-bcfa-4d9c-8561-63c139466457",
         "x": [],
         "y": []
        },
        {
         "marker": {
          "color": "red"
         },
         "name": "<20%",
         "orientation": "h",
         "type": "bar",
         "uid": "025270b8-01ab-4e3c-846c-984bad190881",
         "x": [],
         "y": []
        },
        {
         "marker": {
          "color": "orangered"
         },
         "name": "<0%",
         "orientation": "h",
         "type": "bar",
         "uid": "960b5078-6d84-4f83-a29e-52a8d720aa11",
         "x": [
          -1.36
         ],
         "y": [
          "Major Pharmaceuticals"
         ]
        },
        {
         "marker": {
          "color": "lightgreen"
         },
         "name": ">0%",
         "orientation": "h",
         "type": "bar",
         "uid": "53c3008f-080d-4752-b2c3-b01f9a905d69",
         "x": [
          2.48,
          5.04,
          6.16,
          6.7,
          7.36,
          7.59,
          8.5,
          9.17,
          9.83,
          10.02,
          13.48,
          15.38,
          16.17,
          18.08,
          18.56,
          19
         ],
         "y": [
          "Other Pharmaceuticals",
          "Other Specialty Stores",
          "Department/Specialty Retail Stores",
          "Computer Communications Equipment",
          "Integrated oil Companies",
          "Computer Software: Prepackaged Software",
          "Real Estate Investment Trusts",
          "Consumer Electronics/Video Chains",
          "Catalog/Specialty Distribution",
          "ETF",
          "Oil & Gas Production",
          "Medical/Nursing Services",
          "Computer Software: Programming, Data Processing",
          "Aerospace",
          "Biotechnology: Biological Products (No Diagnostic Substances)",
          "Air Freight/Delivery Services"
         ]
        },
        {
         "marker": {
          "color": "green"
         },
         "name": ">20%",
         "orientation": "h",
         "type": "bar",
         "uid": "8ccfb363-cd00-48a8-8cec-b30f323c07a3",
         "x": [
          20.78,
          23.48,
          27.58,
          28.29,
          35.58,
          36.28,
          36.96,
          39.16,
          39.78
         ],
         "y": [
          "Major Chemicals",
          "Marine Transportation",
          "Business Services",
          "Computer Manufacturing",
          "Semiconductors",
          "Beverages (Production/Distribution)",
          "Other Consumer Services",
          "Shoe Manufacturing",
          "Oilfield Services/Equipment"
         ]
        },
        {
         "marker": {
          "color": "darkgreen"
         },
         "name": ">40%",
         "orientation": "h",
         "type": "bar",
         "uid": "e2a59c39-c024-4eb8-af5e-4071a579fcfe",
         "x": [
          40.14,
          47.18,
          48.18,
          52.57,
          53.82,
          64.3,
          82.65
         ],
         "y": [
          "Hotels/Resorts",
          "Television Services",
          "Restaurants",
          "Consumer Electronics/Appliances",
          "Services-Misc. Amusement & Recreation",
          "Commercial Banks",
          "Auto Manufacturing"
         ]
        }
       ],
       "layout": {
        "autosize": false,
        "height": 768,
        "template": {
         "data": {
          "bar": [
           {
            "error_x": {
             "color": "#2a3f5f"
            },
            "error_y": {
             "color": "#2a3f5f"
            },
            "marker": {
             "line": {
              "color": "#E5ECF6",
              "width": 0.5
             }
            },
            "type": "bar"
           }
          ],
          "barpolar": [
           {
            "marker": {
             "line": {
              "color": "#E5ECF6",
              "width": 0.5
             }
            },
            "type": "barpolar"
           }
          ],
          "carpet": [
           {
            "aaxis": {
             "endlinecolor": "#2a3f5f",
             "gridcolor": "white",
             "linecolor": "white",
             "minorgridcolor": "white",
             "startlinecolor": "#2a3f5f"
            },
            "baxis": {
             "endlinecolor": "#2a3f5f",
             "gridcolor": "white",
             "linecolor": "white",
             "minorgridcolor": "white",
             "startlinecolor": "#2a3f5f"
            },
            "type": "carpet"
           }
          ],
          "choropleth": [
           {
            "colorbar": {
             "outlinewidth": 0,
             "ticks": ""
            },
            "type": "choropleth"
           }
          ],
          "contour": [
           {
            "colorbar": {
             "outlinewidth": 0,
             "ticks": ""
            },
            "colorscale": [
             [
              0,
              "#0d0887"
             ],
             [
              0.1111111111111111,
              "#46039f"
             ],
             [
              0.2222222222222222,
              "#7201a8"
             ],
             [
              0.3333333333333333,
              "#9c179e"
             ],
             [
              0.4444444444444444,
              "#bd3786"
             ],
             [
              0.5555555555555556,
              "#d8576b"
             ],
             [
              0.6666666666666666,
              "#ed7953"
             ],
             [
              0.7777777777777778,
              "#fb9f3a"
             ],
             [
              0.8888888888888888,
              "#fdca26"
             ],
             [
              1,
              "#f0f921"
             ]
            ],
            "type": "contour"
           }
          ],
          "contourcarpet": [
           {
            "colorbar": {
             "outlinewidth": 0,
             "ticks": ""
            },
            "type": "contourcarpet"
           }
          ],
          "heatmap": [
           {
            "colorbar": {
             "outlinewidth": 0,
             "ticks": ""
            },
            "colorscale": [
             [
              0,
              "#0d0887"
             ],
             [
              0.1111111111111111,
              "#46039f"
             ],
             [
              0.2222222222222222,
              "#7201a8"
             ],
             [
              0.3333333333333333,
              "#9c179e"
             ],
             [
              0.4444444444444444,
              "#bd3786"
             ],
             [
              0.5555555555555556,
              "#d8576b"
             ],
             [
              0.6666666666666666,
              "#ed7953"
             ],
             [
              0.7777777777777778,
              "#fb9f3a"
             ],
             [
              0.8888888888888888,
              "#fdca26"
             ],
             [
              1,
              "#f0f921"
             ]
            ],
            "type": "heatmap"
           }
          ],
          "heatmapgl": [
           {
            "colorbar": {
             "outlinewidth": 0,
             "ticks": ""
            },
            "colorscale": [
             [
              0,
              "#0d0887"
             ],
             [
              0.1111111111111111,
              "#46039f"
             ],
             [
              0.2222222222222222,
              "#7201a8"
             ],
             [
              0.3333333333333333,
              "#9c179e"
             ],
             [
              0.4444444444444444,
              "#bd3786"
             ],
             [
              0.5555555555555556,
              "#d8576b"
             ],
             [
              0.6666666666666666,
              "#ed7953"
             ],
             [
              0.7777777777777778,
              "#fb9f3a"
             ],
             [
              0.8888888888888888,
              "#fdca26"
             ],
             [
              1,
              "#f0f921"
             ]
            ],
            "type": "heatmapgl"
           }
          ],
          "histogram": [
           {
            "marker": {
             "colorbar": {
              "outlinewidth": 0,
              "ticks": ""
             }
            },
            "type": "histogram"
           }
          ],
          "histogram2d": [
           {
            "colorbar": {
             "outlinewidth": 0,
             "ticks": ""
            },
            "colorscale": [
             [
              0,
              "#0d0887"
             ],
             [
              0.1111111111111111,
              "#46039f"
             ],
             [
              0.2222222222222222,
              "#7201a8"
             ],
             [
              0.3333333333333333,
              "#9c179e"
             ],
             [
              0.4444444444444444,
              "#bd3786"
             ],
             [
              0.5555555555555556,
              "#d8576b"
             ],
             [
              0.6666666666666666,
              "#ed7953"
             ],
             [
              0.7777777777777778,
              "#fb9f3a"
             ],
             [
              0.8888888888888888,
              "#fdca26"
             ],
             [
              1,
              "#f0f921"
             ]
            ],
            "type": "histogram2d"
           }
          ],
          "histogram2dcontour": [
           {
            "colorbar": {
             "outlinewidth": 0,
             "ticks": ""
            },
            "colorscale": [
             [
              0,
              "#0d0887"
             ],
             [
              0.1111111111111111,
              "#46039f"
             ],
             [
              0.2222222222222222,
              "#7201a8"
             ],
             [
              0.3333333333333333,
              "#9c179e"
             ],
             [
              0.4444444444444444,
              "#bd3786"
             ],
             [
              0.5555555555555556,
              "#d8576b"
             ],
             [
              0.6666666666666666,
              "#ed7953"
             ],
             [
              0.7777777777777778,
              "#fb9f3a"
             ],
             [
              0.8888888888888888,
              "#fdca26"
             ],
             [
              1,
              "#f0f921"
             ]
            ],
            "type": "histogram2dcontour"
           }
          ],
          "mesh3d": [
           {
            "colorbar": {
             "outlinewidth": 0,
             "ticks": ""
            },
            "type": "mesh3d"
           }
          ],
          "parcoords": [
           {
            "line": {
             "colorbar": {
              "outlinewidth": 0,
              "ticks": ""
             }
            },
            "type": "parcoords"
           }
          ],
          "pie": [
           {
            "automargin": true,
            "type": "pie"
           }
          ],
          "scatter": [
           {
            "marker": {
             "colorbar": {
              "outlinewidth": 0,
              "ticks": ""
             }
            },
            "type": "scatter"
           }
          ],
          "scatter3d": [
           {
            "line": {
             "colorbar": {
              "outlinewidth": 0,
              "ticks": ""
             }
            },
            "marker": {
             "colorbar": {
              "outlinewidth": 0,
              "ticks": ""
             }
            },
            "type": "scatter3d"
           }
          ],
          "scattercarpet": [
           {
            "marker": {
             "colorbar": {
              "outlinewidth": 0,
              "ticks": ""
             }
            },
            "type": "scattercarpet"
           }
          ],
          "scattergeo": [
           {
            "marker": {
             "colorbar": {
              "outlinewidth": 0,
              "ticks": ""
             }
            },
            "type": "scattergeo"
           }
          ],
          "scattergl": [
           {
            "marker": {
             "colorbar": {
              "outlinewidth": 0,
              "ticks": ""
             }
            },
            "type": "scattergl"
           }
          ],
          "scattermapbox": [
           {
            "marker": {
             "colorbar": {
              "outlinewidth": 0,
              "ticks": ""
             }
            },
            "type": "scattermapbox"
           }
          ],
          "scatterpolar": [
           {
            "marker": {
             "colorbar": {
              "outlinewidth": 0,
              "ticks": ""
             }
            },
            "type": "scatterpolar"
           }
          ],
          "scatterpolargl": [
           {
            "marker": {
             "colorbar": {
              "outlinewidth": 0,
              "ticks": ""
             }
            },
            "type": "scatterpolargl"
           }
          ],
          "scatterternary": [
           {
            "marker": {
             "colorbar": {
              "outlinewidth": 0,
              "ticks": ""
             }
            },
            "type": "scatterternary"
           }
          ],
          "surface": [
           {
            "colorbar": {
             "outlinewidth": 0,
             "ticks": ""
            },
            "colorscale": [
             [
              0,
              "#0d0887"
             ],
             [
              0.1111111111111111,
              "#46039f"
             ],
             [
              0.2222222222222222,
              "#7201a8"
             ],
             [
              0.3333333333333333,
              "#9c179e"
             ],
             [
              0.4444444444444444,
              "#bd3786"
             ],
             [
              0.5555555555555556,
              "#d8576b"
             ],
             [
              0.6666666666666666,
              "#ed7953"
             ],
             [
              0.7777777777777778,
              "#fb9f3a"
             ],
             [
              0.8888888888888888,
              "#fdca26"
             ],
             [
              1,
              "#f0f921"
             ]
            ],
            "type": "surface"
           }
          ],
          "table": [
           {
            "cells": {
             "fill": {
              "color": "#EBF0F8"
             },
             "line": {
              "color": "white"
             }
            },
            "header": {
             "fill": {
              "color": "#C8D4E3"
             },
             "line": {
              "color": "white"
             }
            },
            "type": "table"
           }
          ]
         },
         "layout": {
          "annotationdefaults": {
           "arrowcolor": "#2a3f5f",
           "arrowhead": 0,
           "arrowwidth": 1
          },
          "autotypenumbers": "strict",
          "coloraxis": {
           "colorbar": {
            "outlinewidth": 0,
            "ticks": ""
           }
          },
          "colorscale": {
           "diverging": [
            [
             0,
             "#8e0152"
            ],
            [
             0.1,
             "#c51b7d"
            ],
            [
             0.2,
             "#de77ae"
            ],
            [
             0.3,
             "#f1b6da"
            ],
            [
             0.4,
             "#fde0ef"
            ],
            [
             0.5,
             "#f7f7f7"
            ],
            [
             0.6,
             "#e6f5d0"
            ],
            [
             0.7,
             "#b8e186"
            ],
            [
             0.8,
             "#7fbc41"
            ],
            [
             0.9,
             "#4d9221"
            ],
            [
             1,
             "#276419"
            ]
           ],
           "sequential": [
            [
             0,
             "#0d0887"
            ],
            [
             0.1111111111111111,
             "#46039f"
            ],
            [
             0.2222222222222222,
             "#7201a8"
            ],
            [
             0.3333333333333333,
             "#9c179e"
            ],
            [
             0.4444444444444444,
             "#bd3786"
            ],
            [
             0.5555555555555556,
             "#d8576b"
            ],
            [
             0.6666666666666666,
             "#ed7953"
            ],
            [
             0.7777777777777778,
             "#fb9f3a"
            ],
            [
             0.8888888888888888,
             "#fdca26"
            ],
            [
             1,
             "#f0f921"
            ]
           ],
           "sequentialminus": [
            [
             0,
             "#0d0887"
            ],
            [
             0.1111111111111111,
             "#46039f"
            ],
            [
             0.2222222222222222,
             "#7201a8"
            ],
            [
             0.3333333333333333,
             "#9c179e"
            ],
            [
             0.4444444444444444,
             "#bd3786"
            ],
            [
             0.5555555555555556,
             "#d8576b"
            ],
            [
             0.6666666666666666,
             "#ed7953"
            ],
            [
             0.7777777777777778,
             "#fb9f3a"
            ],
            [
             0.8888888888888888,
             "#fdca26"
            ],
            [
             1,
             "#f0f921"
            ]
           ]
          },
          "colorway": [
           "#636efa",
           "#EF553B",
           "#00cc96",
           "#ab63fa",
           "#FFA15A",
           "#19d3f3",
           "#FF6692",
           "#B6E880",
           "#FF97FF",
           "#FECB52"
          ],
          "font": {
           "color": "#2a3f5f"
          },
          "geo": {
           "bgcolor": "white",
           "lakecolor": "white",
           "landcolor": "#E5ECF6",
           "showlakes": true,
           "showland": true,
           "subunitcolor": "white"
          },
          "hoverlabel": {
           "align": "left"
          },
          "hovermode": "closest",
          "mapbox": {
           "style": "light"
          },
          "paper_bgcolor": "white",
          "plot_bgcolor": "#E5ECF6",
          "polar": {
           "angularaxis": {
            "gridcolor": "white",
            "linecolor": "white",
            "ticks": ""
           },
           "bgcolor": "#E5ECF6",
           "radialaxis": {
            "gridcolor": "white",
            "linecolor": "white",
            "ticks": ""
           }
          },
          "scene": {
           "xaxis": {
            "backgroundcolor": "#E5ECF6",
            "gridcolor": "white",
            "gridwidth": 2,
            "linecolor": "white",
            "showbackground": true,
            "ticks": "",
            "zerolinecolor": "white"
           },
           "yaxis": {
            "backgroundcolor": "#E5ECF6",
            "gridcolor": "white",
            "gridwidth": 2,
            "linecolor": "white",
            "showbackground": true,
            "ticks": "",
            "zerolinecolor": "white"
           },
           "zaxis": {
            "backgroundcolor": "#E5ECF6",
            "gridcolor": "white",
            "gridwidth": 2,
            "linecolor": "white",
            "showbackground": true,
            "ticks": "",
            "zerolinecolor": "white"
           }
          },
          "shapedefaults": {
           "line": {
            "color": "#2a3f5f"
           }
          },
          "ternary": {
           "aaxis": {
            "gridcolor": "white",
            "linecolor": "white",
            "ticks": ""
           },
           "baxis": {
            "gridcolor": "white",
            "linecolor": "white",
            "ticks": ""
           },
           "bgcolor": "#E5ECF6",
           "caxis": {
            "gridcolor": "white",
            "linecolor": "white",
            "ticks": ""
           }
          },
          "title": {
           "x": 0.05
          },
          "xaxis": {
           "automargin": true,
           "gridcolor": "white",
           "linecolor": "white",
           "ticks": "",
           "title": {
            "standoff": 15
           },
           "zerolinecolor": "white",
           "zerolinewidth": 2
          },
          "yaxis": {
           "automargin": true,
           "gridcolor": "white",
           "linecolor": "white",
           "ticks": "",
           "title": {
            "standoff": 15
           },
           "zerolinecolor": "white",
           "zerolinewidth": 2
          }
         }
        },
        "title": {
         "text": "Industry Analysis sorted by Profit and Loss %",
         "x": 0.5,
         "xanchor": "center",
         "y": 0.9,
         "yanchor": "top"
        },
        "width": 1024
       }
      },
      "text/html": [
       "<div>                            <div id=\"8ccce2d4-7ed4-4611-a2bd-fcebcd86f6fa\" class=\"plotly-graph-div\" style=\"height:768px; width:1024px;\"></div>            <script type=\"text/javascript\">                require([\"plotly\"], function(Plotly) {                    window.PLOTLYENV=window.PLOTLYENV || {};                                    if (document.getElementById(\"8ccce2d4-7ed4-4611-a2bd-fcebcd86f6fa\")) {                    Plotly.newPlot(                        \"8ccce2d4-7ed4-4611-a2bd-fcebcd86f6fa\",                        [{\"marker\": {\"color\": \"darkred\"}, \"name\": \"<40%\", \"orientation\": \"h\", \"type\": \"bar\", \"uid\": \"e2347a8a-bcfa-4d9c-8561-63c139466457\", \"x\": [], \"y\": []}, {\"marker\": {\"color\": \"red\"}, \"name\": \"<20%\", \"orientation\": \"h\", \"type\": \"bar\", \"uid\": \"025270b8-01ab-4e3c-846c-984bad190881\", \"x\": [], \"y\": []}, {\"marker\": {\"color\": \"orangered\"}, \"name\": \"<0%\", \"orientation\": \"h\", \"type\": \"bar\", \"uid\": \"960b5078-6d84-4f83-a29e-52a8d720aa11\", \"x\": [-1.36], \"y\": [\"Major Pharmaceuticals\"]}, {\"marker\": {\"color\": \"lightgreen\"}, \"name\": \">0%\", \"orientation\": \"h\", \"type\": \"bar\", \"uid\": \"53c3008f-080d-4752-b2c3-b01f9a905d69\", \"x\": [2.48, 5.04, 6.16, 6.7, 7.36, 7.59, 8.5, 9.17, 9.83, 10.02, 13.48, 15.38, 16.17, 18.08, 18.56, 19.0], \"y\": [\"Other Pharmaceuticals\", \"Other Specialty Stores\", \"Department/Specialty Retail Stores\", \"Computer Communications Equipment\", \"Integrated oil Companies\", \"Computer Software: Prepackaged Software\", \"Real Estate Investment Trusts\", \"Consumer Electronics/Video Chains\", \"Catalog/Specialty Distribution\", \"ETF\", \"Oil & Gas Production\", \"Medical/Nursing Services\", \"Computer Software: Programming, Data Processing\", \"Aerospace\", \"Biotechnology: Biological Products (No Diagnostic Substances)\", \"Air Freight/Delivery Services\"]}, {\"marker\": {\"color\": \"green\"}, \"name\": \">20%\", \"orientation\": \"h\", \"type\": \"bar\", \"uid\": \"8ccfb363-cd00-48a8-8cec-b30f323c07a3\", \"x\": [20.78, 23.48, 27.58, 28.29, 35.58, 36.28, 36.96, 39.16, 39.78], \"y\": [\"Major Chemicals\", \"Marine Transportation\", \"Business Services\", \"Computer Manufacturing\", \"Semiconductors\", \"Beverages (Production/Distribution)\", \"Other Consumer Services\", \"Shoe Manufacturing\", \"Oilfield Services/Equipment\"]}, {\"marker\": {\"color\": \"darkgreen\"}, \"name\": \">40%\", \"orientation\": \"h\", \"type\": \"bar\", \"uid\": \"e2a59c39-c024-4eb8-af5e-4071a579fcfe\", \"x\": [40.14, 47.18, 48.18, 52.57, 53.82, 64.3, 82.65], \"y\": [\"Hotels/Resorts\", \"Television Services\", \"Restaurants\", \"Consumer Electronics/Appliances\", \"Services-Misc. Amusement & Recreation\", \"Commercial Banks\", \"Auto Manufacturing\"]}],                        {\"autosize\": false, \"height\": 768, \"template\": {\"data\": {\"bar\": [{\"error_x\": {\"color\": \"#2a3f5f\"}, \"error_y\": {\"color\": \"#2a3f5f\"}, \"marker\": {\"line\": {\"color\": \"#E5ECF6\", \"width\": 0.5}}, \"type\": \"bar\"}], \"barpolar\": [{\"marker\": {\"line\": {\"color\": \"#E5ECF6\", \"width\": 0.5}}, \"type\": \"barpolar\"}], \"carpet\": [{\"aaxis\": {\"endlinecolor\": \"#2a3f5f\", \"gridcolor\": \"white\", \"linecolor\": \"white\", \"minorgridcolor\": \"white\", \"startlinecolor\": \"#2a3f5f\"}, \"baxis\": {\"endlinecolor\": \"#2a3f5f\", \"gridcolor\": \"white\", \"linecolor\": \"white\", \"minorgridcolor\": \"white\", \"startlinecolor\": \"#2a3f5f\"}, \"type\": \"carpet\"}], \"choropleth\": [{\"colorbar\": {\"outlinewidth\": 0, \"ticks\": \"\"}, \"type\": \"choropleth\"}], \"contour\": [{\"colorbar\": {\"outlinewidth\": 0, \"ticks\": \"\"}, \"colorscale\": [[0.0, \"#0d0887\"], [0.1111111111111111, \"#46039f\"], [0.2222222222222222, \"#7201a8\"], [0.3333333333333333, \"#9c179e\"], [0.4444444444444444, \"#bd3786\"], [0.5555555555555556, \"#d8576b\"], [0.6666666666666666, \"#ed7953\"], [0.7777777777777778, \"#fb9f3a\"], [0.8888888888888888, \"#fdca26\"], [1.0, \"#f0f921\"]], \"type\": \"contour\"}], \"contourcarpet\": [{\"colorbar\": {\"outlinewidth\": 0, \"ticks\": \"\"}, \"type\": \"contourcarpet\"}], \"heatmap\": [{\"colorbar\": {\"outlinewidth\": 0, \"ticks\": \"\"}, \"colorscale\": [[0.0, \"#0d0887\"], [0.1111111111111111, \"#46039f\"], [0.2222222222222222, \"#7201a8\"], [0.3333333333333333, \"#9c179e\"], [0.4444444444444444, \"#bd3786\"], [0.5555555555555556, \"#d8576b\"], [0.6666666666666666, \"#ed7953\"], [0.7777777777777778, \"#fb9f3a\"], [0.8888888888888888, \"#fdca26\"], [1.0, \"#f0f921\"]], \"type\": \"heatmap\"}], \"heatmapgl\": [{\"colorbar\": {\"outlinewidth\": 0, \"ticks\": \"\"}, \"colorscale\": [[0.0, \"#0d0887\"], [0.1111111111111111, \"#46039f\"], [0.2222222222222222, \"#7201a8\"], [0.3333333333333333, \"#9c179e\"], [0.4444444444444444, \"#bd3786\"], [0.5555555555555556, \"#d8576b\"], [0.6666666666666666, \"#ed7953\"], [0.7777777777777778, \"#fb9f3a\"], [0.8888888888888888, \"#fdca26\"], [1.0, \"#f0f921\"]], \"type\": \"heatmapgl\"}], \"histogram\": [{\"marker\": {\"colorbar\": {\"outlinewidth\": 0, \"ticks\": \"\"}}, \"type\": \"histogram\"}], \"histogram2d\": [{\"colorbar\": {\"outlinewidth\": 0, \"ticks\": \"\"}, \"colorscale\": [[0.0, \"#0d0887\"], [0.1111111111111111, \"#46039f\"], [0.2222222222222222, \"#7201a8\"], [0.3333333333333333, \"#9c179e\"], [0.4444444444444444, \"#bd3786\"], [0.5555555555555556, \"#d8576b\"], [0.6666666666666666, \"#ed7953\"], [0.7777777777777778, \"#fb9f3a\"], [0.8888888888888888, \"#fdca26\"], [1.0, \"#f0f921\"]], \"type\": \"histogram2d\"}], \"histogram2dcontour\": [{\"colorbar\": {\"outlinewidth\": 0, \"ticks\": \"\"}, \"colorscale\": [[0.0, \"#0d0887\"], [0.1111111111111111, \"#46039f\"], [0.2222222222222222, \"#7201a8\"], [0.3333333333333333, \"#9c179e\"], [0.4444444444444444, \"#bd3786\"], [0.5555555555555556, \"#d8576b\"], [0.6666666666666666, \"#ed7953\"], [0.7777777777777778, \"#fb9f3a\"], [0.8888888888888888, \"#fdca26\"], [1.0, \"#f0f921\"]], \"type\": \"histogram2dcontour\"}], \"mesh3d\": [{\"colorbar\": {\"outlinewidth\": 0, \"ticks\": \"\"}, \"type\": \"mesh3d\"}], \"parcoords\": [{\"line\": {\"colorbar\": {\"outlinewidth\": 0, \"ticks\": \"\"}}, \"type\": \"parcoords\"}], \"pie\": [{\"automargin\": true, \"type\": \"pie\"}], \"scatter\": [{\"marker\": {\"colorbar\": {\"outlinewidth\": 0, \"ticks\": \"\"}}, \"type\": \"scatter\"}], \"scatter3d\": [{\"line\": {\"colorbar\": {\"outlinewidth\": 0, \"ticks\": \"\"}}, \"marker\": {\"colorbar\": {\"outlinewidth\": 0, \"ticks\": \"\"}}, \"type\": \"scatter3d\"}], \"scattercarpet\": [{\"marker\": {\"colorbar\": {\"outlinewidth\": 0, \"ticks\": \"\"}}, \"type\": \"scattercarpet\"}], \"scattergeo\": [{\"marker\": {\"colorbar\": {\"outlinewidth\": 0, \"ticks\": \"\"}}, \"type\": \"scattergeo\"}], \"scattergl\": [{\"marker\": {\"colorbar\": {\"outlinewidth\": 0, \"ticks\": \"\"}}, \"type\": \"scattergl\"}], \"scattermapbox\": [{\"marker\": {\"colorbar\": {\"outlinewidth\": 0, \"ticks\": \"\"}}, \"type\": \"scattermapbox\"}], \"scatterpolar\": [{\"marker\": {\"colorbar\": {\"outlinewidth\": 0, \"ticks\": \"\"}}, \"type\": \"scatterpolar\"}], \"scatterpolargl\": [{\"marker\": {\"colorbar\": {\"outlinewidth\": 0, \"ticks\": \"\"}}, \"type\": \"scatterpolargl\"}], \"scatterternary\": [{\"marker\": {\"colorbar\": {\"outlinewidth\": 0, \"ticks\": \"\"}}, \"type\": \"scatterternary\"}], \"surface\": [{\"colorbar\": {\"outlinewidth\": 0, \"ticks\": \"\"}, \"colorscale\": [[0.0, \"#0d0887\"], [0.1111111111111111, \"#46039f\"], [0.2222222222222222, \"#7201a8\"], [0.3333333333333333, \"#9c179e\"], [0.4444444444444444, \"#bd3786\"], [0.5555555555555556, \"#d8576b\"], [0.6666666666666666, \"#ed7953\"], [0.7777777777777778, \"#fb9f3a\"], [0.8888888888888888, \"#fdca26\"], [1.0, \"#f0f921\"]], \"type\": \"surface\"}], \"table\": [{\"cells\": {\"fill\": {\"color\": \"#EBF0F8\"}, \"line\": {\"color\": \"white\"}}, \"header\": {\"fill\": {\"color\": \"#C8D4E3\"}, \"line\": {\"color\": \"white\"}}, \"type\": \"table\"}]}, \"layout\": {\"annotationdefaults\": {\"arrowcolor\": \"#2a3f5f\", \"arrowhead\": 0, \"arrowwidth\": 1}, \"autotypenumbers\": \"strict\", \"coloraxis\": {\"colorbar\": {\"outlinewidth\": 0, \"ticks\": \"\"}}, \"colorscale\": {\"diverging\": [[0, \"#8e0152\"], [0.1, \"#c51b7d\"], [0.2, \"#de77ae\"], [0.3, \"#f1b6da\"], [0.4, \"#fde0ef\"], [0.5, \"#f7f7f7\"], [0.6, \"#e6f5d0\"], [0.7, \"#b8e186\"], [0.8, \"#7fbc41\"], [0.9, \"#4d9221\"], [1, \"#276419\"]], \"sequential\": [[0.0, \"#0d0887\"], [0.1111111111111111, \"#46039f\"], [0.2222222222222222, \"#7201a8\"], [0.3333333333333333, \"#9c179e\"], [0.4444444444444444, \"#bd3786\"], [0.5555555555555556, \"#d8576b\"], [0.6666666666666666, \"#ed7953\"], [0.7777777777777778, \"#fb9f3a\"], [0.8888888888888888, \"#fdca26\"], [1.0, \"#f0f921\"]], \"sequentialminus\": [[0.0, \"#0d0887\"], [0.1111111111111111, \"#46039f\"], [0.2222222222222222, \"#7201a8\"], [0.3333333333333333, \"#9c179e\"], [0.4444444444444444, \"#bd3786\"], [0.5555555555555556, \"#d8576b\"], [0.6666666666666666, \"#ed7953\"], [0.7777777777777778, \"#fb9f3a\"], [0.8888888888888888, \"#fdca26\"], [1.0, \"#f0f921\"]]}, \"colorway\": [\"#636efa\", \"#EF553B\", \"#00cc96\", \"#ab63fa\", \"#FFA15A\", \"#19d3f3\", \"#FF6692\", \"#B6E880\", \"#FF97FF\", \"#FECB52\"], \"font\": {\"color\": \"#2a3f5f\"}, \"geo\": {\"bgcolor\": \"white\", \"lakecolor\": \"white\", \"landcolor\": \"#E5ECF6\", \"showlakes\": true, \"showland\": true, \"subunitcolor\": \"white\"}, \"hoverlabel\": {\"align\": \"left\"}, \"hovermode\": \"closest\", \"mapbox\": {\"style\": \"light\"}, \"paper_bgcolor\": \"white\", \"plot_bgcolor\": \"#E5ECF6\", \"polar\": {\"angularaxis\": {\"gridcolor\": \"white\", \"linecolor\": \"white\", \"ticks\": \"\"}, \"bgcolor\": \"#E5ECF6\", \"radialaxis\": {\"gridcolor\": \"white\", \"linecolor\": \"white\", \"ticks\": \"\"}}, \"scene\": {\"xaxis\": {\"backgroundcolor\": \"#E5ECF6\", \"gridcolor\": \"white\", \"gridwidth\": 2, \"linecolor\": \"white\", \"showbackground\": true, \"ticks\": \"\", \"zerolinecolor\": \"white\"}, \"yaxis\": {\"backgroundcolor\": \"#E5ECF6\", \"gridcolor\": \"white\", \"gridwidth\": 2, \"linecolor\": \"white\", \"showbackground\": true, \"ticks\": \"\", \"zerolinecolor\": \"white\"}, \"zaxis\": {\"backgroundcolor\": \"#E5ECF6\", \"gridcolor\": \"white\", \"gridwidth\": 2, \"linecolor\": \"white\", \"showbackground\": true, \"ticks\": \"\", \"zerolinecolor\": \"white\"}}, \"shapedefaults\": {\"line\": {\"color\": \"#2a3f5f\"}}, \"ternary\": {\"aaxis\": {\"gridcolor\": \"white\", \"linecolor\": \"white\", \"ticks\": \"\"}, \"baxis\": {\"gridcolor\": \"white\", \"linecolor\": \"white\", \"ticks\": \"\"}, \"bgcolor\": \"#E5ECF6\", \"caxis\": {\"gridcolor\": \"white\", \"linecolor\": \"white\", \"ticks\": \"\"}}, \"title\": {\"x\": 0.05}, \"xaxis\": {\"automargin\": true, \"gridcolor\": \"white\", \"linecolor\": \"white\", \"ticks\": \"\", \"title\": {\"standoff\": 15}, \"zerolinecolor\": \"white\", \"zerolinewidth\": 2}, \"yaxis\": {\"automargin\": true, \"gridcolor\": \"white\", \"linecolor\": \"white\", \"ticks\": \"\", \"title\": {\"standoff\": 15}, \"zerolinecolor\": \"white\", \"zerolinewidth\": 2}}}, \"title\": {\"text\": \"Industry Analysis sorted by Profit and Loss %\", \"x\": 0.5, \"xanchor\": \"center\", \"y\": 0.9, \"yanchor\": \"top\"}, \"width\": 1024},                        {\"responsive\": true}                    ).then(function(){\n",
       "                            \n",
       "var gd = document.getElementById('8ccce2d4-7ed4-4611-a2bd-fcebcd86f6fa');\n",
       "var x = new MutationObserver(function (mutations, observer) {{\n",
       "        var display = window.getComputedStyle(gd).display;\n",
       "        if (!display || display === 'none') {{\n",
       "            console.log([gd, 'removed!']);\n",
       "            Plotly.purge(gd);\n",
       "            observer.disconnect();\n",
       "        }}\n",
       "}});\n",
       "\n",
       "// Listen for the removal of the full notebook cells\n",
       "var notebookContainer = gd.closest('#notebook-container');\n",
       "if (notebookContainer) {{\n",
       "    x.observe(notebookContainer, {childList: true});\n",
       "}}\n",
       "\n",
       "// Listen for the clearing of the current output cell\n",
       "var outputEl = gd.closest('.output');\n",
       "if (outputEl) {{\n",
       "    x.observe(outputEl, {childList: true});\n",
       "}}\n",
       "\n",
       "                        })                };                });            </script>        </div>"
      ]
     },
     "metadata": {},
     "output_type": "display_data"
    }
   ],
   "source": [
    "#Code to Display Industry Analysis sorted by Profit/Loss %\n",
    "import plotly.express as px\n",
    "\n",
    "bins = [-np.inf, -40, -20, 0, 20, 40, np.inf]\n",
    "labels = ['<40%', '<20%', '<0%', '>0%', '>20%', '>40%']\n",
    "#bins = pd.IntervalIndex.from_tuples([(-60, -40), (-20, 0), (0, 20)])\n",
    "colors = {'<40%' : 'darkred', \n",
    "          '<20%' : 'red',\n",
    "          '<0%'   : 'orangered',\n",
    "          '>0%'  : 'lightgreen', \n",
    "          '>20%'  : 'green', \n",
    "          '>40%'  : 'darkgreen'\n",
    "        }\n",
    "\n",
    "\n",
    "industrySummary['label'] = pd.cut(industrySummary['Profit/Loss Percentage'],bins=bins,labels=labels)\n",
    "\n",
    "bars = []\n",
    "for label, label_df in industrySummary.groupby('label'):\n",
    "    bars.append(go.Bar(x=label_df['Profit/Loss Percentage'],\n",
    "                       y=label_df['Industry'],\n",
    "                       name=label,\n",
    "                       marker={'color': colors[label]},\n",
    "                      orientation='h'))\n",
    "\n",
    "fig = go.FigureWidget(data=bars)\n",
    "\n",
    "\n",
    "fig.update_layout(\n",
    "    autosize=False,\n",
    "    width=1024,\n",
    "    height=768,\n",
    "    title={\n",
    "        'text': \"Industry Analysis sorted by Profit and Loss %\",\n",
    "        'y':0.9,\n",
    "        'x':0.5,\n",
    "        'xanchor': 'center',\n",
    "        'yanchor': 'top'})\n",
    "\n",
    "\n",
    "fig.show()\n"
   ]
  },
  {
   "cell_type": "markdown",
   "metadata": {},
   "source": [
    "# ANALYSIS ON STOCKS THAT ARE SOLD"
   ]
  },
  {
   "cell_type": "code",
   "execution_count": 55,
   "metadata": {},
   "outputs": [],
   "source": [
    "soldStocks = pd.DataFrame(sellList)\n",
    "soldStocks = soldStocks.astype({'totalBuyingPrice': float})\n",
    "soldStocks = soldStocks.astype({'sellingQuantity': float})\n",
    "soldStocks = soldStocks.astype({'BuyingPricePerShare': float})\n",
    "soldStocks['totalBuyingPricePerSellingQuantity'] = soldStocks['sellingQuantity'] * soldStocks['BuyingPricePerShare']\n",
    "soldStocks['P/L %'] = ((soldStocks['totalSellingPrice']) - (soldStocks['totalBuyingPricePerSellingQuantity']))/(soldStocks['totalBuyingPricePerSellingQuantity'])*100"
   ]
  },
  {
   "cell_type": "code",
   "execution_count": 56,
   "metadata": {},
   "outputs": [
    {
     "data": {
      "application/vnd.jupyter.widget-view+json": {
       "model_id": "33d61f950d23446794ba499fddfad487",
       "version_major": 2,
       "version_minor": 0
      },
      "text/plain": [
       "QgridWidget(grid_options={'fullWidthRows': True, 'syncColumnCellResize': True, 'forceFitColumns': True, 'defau…"
      ]
     },
     "metadata": {},
     "output_type": "display_data"
    }
   ],
   "source": [
    "soldStocksDisplay = qgrid.show_grid(soldStocks)\n",
    "soldStocksDisplay\n",
    "\n",
    "#Table view of each stocks sold sorted on their Profit and Loss % analysis"
   ]
  },
  {
   "cell_type": "code",
   "execution_count": 57,
   "metadata": {},
   "outputs": [],
   "source": [
    "#soldStocks[soldStocks['date'].str.match('2020')].sort_values('totalSellingPrice',ascending=False)"
   ]
  },
  {
   "cell_type": "code",
   "execution_count": 58,
   "metadata": {},
   "outputs": [],
   "source": [
    "#sellPrice = soldStocks[soldStocks['date'].str.match('2020')]['totalSellingPrice'].sum() \n",
    "#buyPrice = soldStocks[soldStocks['date'].str.match('2020')]['totalBuyingPricePerSellingQuantity'].sum()\n",
    "\n",
    "#profitOrLoss = (sellPrice - buyPrice)/buyPrice *100\n",
    "#print('Total Selling Price : ',  sellPrice)\n",
    "#print('Total Buying Price  : ' ,  buyPrice)\n",
    "#print('Total P/L           : ' ,  round(profitOrLoss,2),'%')\n",
    "\n"
   ]
  },
  {
   "cell_type": "markdown",
   "metadata": {},
   "source": [
    "# ANALYSIS ON DIVIDENDS EARNED"
   ]
  },
  {
   "cell_type": "code",
   "execution_count": 59,
   "metadata": {},
   "outputs": [
    {
     "name": "stdout",
     "output_type": "stream",
     "text": [
      "Total Dividends Earned till date: 119.25\n"
     ]
    },
    {
     "data": {
      "text/plain": [
       "name                                                      ticker\n",
       "AG Mortgage Investment Trust                              MITT       0.60\n",
       "ARMOUR Residential REIT                                   ARR        4.96\n",
       "Anheuser Busch InBev                                      BUD        0.34\n",
       "Apple                                                     AAPL       5.76\n",
       "Applied Materials                                         AMAT       1.32\n",
       "Best Buy                                                  BBY        1.10\n",
       "Broadcom                                                  AVGO      17.01\n",
       "CVS                                                       CVS        2.01\n",
       "Chevron                                                   CVX        9.03\n",
       "Cisco                                                     CSCO       1.09\n",
       "Darden Restaurants                                        DRI        2.68\n",
       "Direxion Daily S&P Oil & Gas Exp. & Prod. Bull 2X Shares  GUSH       0.02\n",
       "GE                                                        GE         0.50\n",
       "Invesco Mortgage Capital                                  IVR        7.61\n",
       "Lennar                                                    LEN        1.25\n",
       "MGM Resorts                                               MGM        0.03\n",
       "Mastercard                                                MA         2.36\n",
       "Merck                                                     MRK        1.87\n",
       "Microsoft                                                 MSFT       8.46\n",
       "NVIDIA                                                    NVDA       0.32\n",
       "Nike                                                      NKE        0.53\n",
       "Pioneer Natural Resources                                 PXD        0.24\n",
       "Redwood Trust                                             RWT       20.38\n",
       "SPDR S&P 500 ETF                                          SPY       10.60\n",
       "Schlumberger                                              SLB        3.76\n",
       "Sony                                                      SNE        1.78\n",
       "Two Harbors Investment                                    TWO        4.63\n",
       "Vanguard Intermediate-Term Corporate Bond ETF             VCIT       1.23\n",
       "Visa                                                      V          2.20\n",
       "Walmart                                                   WMT        5.58\n",
       "Name: amount, dtype: float64"
      ]
     },
     "execution_count": 59,
     "metadata": {},
     "output_type": "execute_result"
    }
   ],
   "source": [
    "dividends = pd.DataFrame(dividendList)\n",
    "dividends = dividends.astype({'amount': float})\n",
    "print(\"Total Dividends Earned till date:\",dividends['amount'].sum())\n",
    "dividends.groupby(['name','ticker'])['amount'].sum()"
   ]
  },
  {
   "cell_type": "code",
   "execution_count": 28,
   "metadata": {},
   "outputs": [
    {
     "data": {
      "text/html": [
       "<div>\n",
       "<style scoped>\n",
       "    .dataframe tbody tr th:only-of-type {\n",
       "        vertical-align: middle;\n",
       "    }\n",
       "\n",
       "    .dataframe tbody tr th {\n",
       "        vertical-align: top;\n",
       "    }\n",
       "\n",
       "    .dataframe thead th {\n",
       "        text-align: right;\n",
       "    }\n",
       "</style>\n",
       "<table border=\"1\" class=\"dataframe\">\n",
       "  <thead>\n",
       "    <tr style=\"text-align: right;\">\n",
       "      <th></th>\n",
       "      <th>name</th>\n",
       "      <th>ticker</th>\n",
       "      <th>amount</th>\n",
       "      <th>payable_date</th>\n",
       "    </tr>\n",
       "  </thead>\n",
       "  <tbody>\n",
       "    <tr>\n",
       "      <th>0</th>\n",
       "      <td>Microsoft</td>\n",
       "      <td>MSFT</td>\n",
       "      <td>1.02</td>\n",
       "      <td>2020-03-12</td>\n",
       "    </tr>\n",
       "    <tr>\n",
       "      <th>1</th>\n",
       "      <td>Apple</td>\n",
       "      <td>AAPL</td>\n",
       "      <td>1.64</td>\n",
       "      <td>2020-05-14</td>\n",
       "    </tr>\n",
       "    <tr>\n",
       "      <th>2</th>\n",
       "      <td>Visa</td>\n",
       "      <td>V</td>\n",
       "      <td>0.30</td>\n",
       "      <td>2020-06-02</td>\n",
       "    </tr>\n",
       "    <tr>\n",
       "      <th>3</th>\n",
       "      <td>Vanguard Intermediate-Term Corporate Bond ETF</td>\n",
       "      <td>VCIT</td>\n",
       "      <td>0.23</td>\n",
       "      <td>2020-06-04</td>\n",
       "    </tr>\n",
       "    <tr>\n",
       "      <th>4</th>\n",
       "      <td>Microsoft</td>\n",
       "      <td>MSFT</td>\n",
       "      <td>1.53</td>\n",
       "      <td>2020-06-11</td>\n",
       "    </tr>\n",
       "    <tr>\n",
       "      <th>...</th>\n",
       "      <td>...</td>\n",
       "      <td>...</td>\n",
       "      <td>...</td>\n",
       "      <td>...</td>\n",
       "    </tr>\n",
       "    <tr>\n",
       "      <th>71</th>\n",
       "      <td>AG Mortgage Investment Trust</td>\n",
       "      <td>MITT</td>\n",
       "      <td>0.60</td>\n",
       "      <td>2021-01-29</td>\n",
       "    </tr>\n",
       "    <tr>\n",
       "      <th>72</th>\n",
       "      <td>SPDR S&amp;P 500 ETF</td>\n",
       "      <td>SPY</td>\n",
       "      <td>5.18</td>\n",
       "      <td>2021-01-29</td>\n",
       "    </tr>\n",
       "    <tr>\n",
       "      <th>73</th>\n",
       "      <td>Two Harbors Investment</td>\n",
       "      <td>TWO</td>\n",
       "      <td>1.79</td>\n",
       "      <td>2021-01-29</td>\n",
       "    </tr>\n",
       "    <tr>\n",
       "      <th>74</th>\n",
       "      <td>Darden Restaurants</td>\n",
       "      <td>DRI</td>\n",
       "      <td>1.48</td>\n",
       "      <td>2021-02-01</td>\n",
       "    </tr>\n",
       "    <tr>\n",
       "      <th>75</th>\n",
       "      <td>Mastercard</td>\n",
       "      <td>MA</td>\n",
       "      <td>1.12</td>\n",
       "      <td>2021-02-09</td>\n",
       "    </tr>\n",
       "  </tbody>\n",
       "</table>\n",
       "<p>76 rows × 4 columns</p>\n",
       "</div>"
      ],
      "text/plain": [
       "                                             name ticker  amount payable_date\n",
       "0                                       Microsoft   MSFT    1.02   2020-03-12\n",
       "1                                           Apple   AAPL    1.64   2020-05-14\n",
       "2                                            Visa      V    0.30   2020-06-02\n",
       "3   Vanguard Intermediate-Term Corporate Bond ETF   VCIT    0.23   2020-06-04\n",
       "4                                       Microsoft   MSFT    1.53   2020-06-11\n",
       "..                                            ...    ...     ...          ...\n",
       "71                   AG Mortgage Investment Trust   MITT    0.60   2021-01-29\n",
       "72                               SPDR S&P 500 ETF    SPY    5.18   2021-01-29\n",
       "73                         Two Harbors Investment    TWO    1.79   2021-01-29\n",
       "74                             Darden Restaurants    DRI    1.48   2021-02-01\n",
       "75                                     Mastercard     MA    1.12   2021-02-09\n",
       "\n",
       "[76 rows x 4 columns]"
      ]
     },
     "execution_count": 28,
     "metadata": {},
     "output_type": "execute_result"
    }
   ],
   "source": [
    "dividends.sort_values(['payable_date'])"
   ]
  },
  {
   "cell_type": "code",
   "execution_count": null,
   "metadata": {},
   "outputs": [],
   "source": []
  },
  {
   "cell_type": "code",
   "execution_count": null,
   "metadata": {},
   "outputs": [],
   "source": []
  },
  {
   "cell_type": "code",
   "execution_count": null,
   "metadata": {},
   "outputs": [],
   "source": []
  },
  {
   "cell_type": "code",
   "execution_count": null,
   "metadata": {},
   "outputs": [],
   "source": []
  },
  {
   "cell_type": "code",
   "execution_count": null,
   "metadata": {},
   "outputs": [],
   "source": []
  },
  {
   "cell_type": "code",
   "execution_count": null,
   "metadata": {},
   "outputs": [],
   "source": []
  }
 ],
 "metadata": {
  "kernelspec": {
   "display_name": "Python 3",
   "language": "python",
   "name": "python3"
  },
  "language_info": {
   "codemirror_mode": {
    "name": "ipython",
    "version": 3
   },
   "file_extension": ".py",
   "mimetype": "text/x-python",
   "name": "python",
   "nbconvert_exporter": "python",
   "pygments_lexer": "ipython3",
   "version": "3.8.3"
  }
 },
 "nbformat": 4,
 "nbformat_minor": 1
}
